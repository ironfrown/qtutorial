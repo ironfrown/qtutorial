{
 "cells": [
  {
   "cell_type": "markdown",
   "id": "2bfc6bdc-f3a6-4fa5-937b-e40a1fcbcae9",
   "metadata": {},
   "source": [
    "# Data Prep for Simple Classical and Quantum Estimators\n",
    "\n",
    "_This notebook prepares sample data for use with \"Simple\" classical and quantum estimators, written in **PennyLane and PyTorch**_.\n",
    "\n",
    "**By:** Jacob Cybulski ([website](https://jacobcybulski.com/))<br>\n",
    "**Date:** 1 October 2024<br>\n",
    "**Updates:** 1 October 2024<br>\n",
    "**Aims:** To prepare data for the quantum and classical estimators, to compare them.<br/>\n",
    "**License:** \n",
    "This project is licensed under the [Creative Commons CC-BY](https://creativecommons.org/licenses/by/4.0/)<br>\n",
    "**Changes:** All changes to this code must be listed at the bottom of this notebook"
   ]
  },
  {
   "cell_type": "markdown",
   "id": "5715a135-8768-4fac-9373-072ffd8039a1",
   "metadata": {},
   "source": [
    "## Libraries"
   ]
  },
  {
   "cell_type": "code",
   "execution_count": 1,
   "id": "7c92610b-6d3a-45cb-9c29-487523799255",
   "metadata": {},
   "outputs": [
    {
     "data": {
      "text/plain": [
       "['/home/jacob/miniconda3/envs/pl-cuda12/lib/python311.zip',\n",
       " '/home/jacob/miniconda3/envs/pl-cuda12/lib/python3.11',\n",
       " '/home/jacob/miniconda3/envs/pl-cuda12/lib/python3.11/lib-dynload',\n",
       " '',\n",
       " '/home/jacob/miniconda3/envs/pl-cuda12/lib/python3.11/site-packages',\n",
       " '.']"
      ]
     },
     "execution_count": 1,
     "metadata": {},
     "output_type": "execute_result"
    }
   ],
   "source": [
    "import sys\n",
    "sys.path.append('.')\n",
    "sys.path"
   ]
  },
  {
   "cell_type": "code",
   "execution_count": 2,
   "id": "e4a6dcc2-2992-43ea-9ce7-925124df72bb",
   "metadata": {},
   "outputs": [],
   "source": [
    "### General libraries\n",
    "\n",
    "import os\n",
    "import pylab\n",
    "import math\n",
    "import time\n",
    "import copy\n",
    "import numpy as nnp\n",
    "import pandas as pd\n",
    "from IPython.display import clear_output\n",
    "\n",
    "import matplotlib.pyplot as plt\n",
    "from matplotlib import set_loglevel\n",
    "set_loglevel(\"warning\")\n",
    "\n",
    "import warnings\n",
    "warnings.filterwarnings(\"ignore\")\n",
    "\n",
    "%matplotlib inline"
   ]
  },
  {
   "cell_type": "code",
   "execution_count": 3,
   "id": "d7369b15-1a33-4e1c-ba8b-11dcae8d5650",
   "metadata": {},
   "outputs": [],
   "source": [
    "### Import utilities\n",
    "from utilities import *"
   ]
  },
  {
   "cell_type": "markdown",
   "id": "c14d8243-f35f-4289-ba52-58c59e0634ba",
   "metadata": {},
   "source": [
    "## Prepare a data set"
   ]
  },
  {
   "cell_type": "markdown",
   "id": "b2a77624-a252-408f-a39a-58acabc33a2f",
   "metadata": {},
   "source": [
    "Data set (requires: pip install sklearn):\n",
    "- <a href=\"https://scikit-learn.org/stable/modules/generated/sklearn.datasets.load_diabetes.html#sklearn.datasets.load_diabetes\" target=\"_blank\">Diabetes</a>:\n",
    "Ten baseline variables, age, sex, body mass index, average blood pressure, and six blood serum measurements were obtained for each of n = 442 diabetes patients, as well as the response of interest, a quantitative measure of disease progression one year after baseline.  \n",
    "\n",
    "***\n",
    "\n",
    "<div style=\"font-size:24px; color:red\">Data preparation objectives:</div>\n",
    "\n",
    "- *Fetch and understand data*\n",
    "- *Select numeric variables only*\n",
    "- *Deal with missing values*\n",
    "- *Prepare the target*\n",
    "- *Standardise all variables*\n",
    "- *Reduce dimensionality using PCA*\n",
    "- *Save PCA results in Pandas format into a file*\n",
    "\n",
    "***\n",
    "<br/>"
   ]
  },
  {
   "cell_type": "markdown",
   "id": "ed0b80cd-3b27-4ca8-a35a-bad1ef41d832",
   "metadata": {},
   "source": [
    "### Files location"
   ]
  },
  {
   "cell_type": "code",
   "execution_count": 4,
   "id": "cbdc7273-129d-4e10-be50-7bb35a65573a",
   "metadata": {},
   "outputs": [],
   "source": [
    "RSRC_STORE = 'rsrc'\n",
    "RSRC_NAME = 'diabetes'"
   ]
  },
  {
   "cell_type": "markdown",
   "id": "e0b9e70b-5fcb-4930-8f82-f3d485271ee0",
   "metadata": {},
   "source": [
    "### Fetch and understand data"
   ]
  },
  {
   "cell_type": "code",
   "execution_count": 5,
   "id": "7772427e-f5a2-4aee-862e-163e253c1d28",
   "metadata": {},
   "outputs": [
    {
     "name": "stdout",
     "output_type": "stream",
     "text": [
      ".. _diabetes_dataset:\n",
      "\n",
      "Diabetes dataset\n",
      "----------------\n",
      "\n",
      "Ten baseline variables, age, sex, body mass index, average blood\n",
      "pressure, and six blood serum measurements were obtained for each of n =\n",
      "442 diabetes patients, as well as the response of interest, a\n",
      "quantitative measure of disease progression one year after baseline.\n",
      "\n",
      "**Data Set Characteristics:**\n",
      "\n",
      ":Number of Instances: 442\n",
      "\n",
      ":Number of Attributes: First 10 columns are numeric predictive values\n",
      "\n",
      ":Target: Column 11 is a quantitative measure of disease progression one year after baseline\n",
      "\n",
      ":Attribute Information:\n",
      "    - age     age in years\n",
      "    - sex\n",
      "    - bmi     body mass index\n",
      "    - bp      average blood pressure\n",
      "    - s1      tc, total serum cholesterol\n",
      "    - s2      ldl, low-density lipoproteins\n",
      "    - s3      hdl, high-density lipoproteins\n",
      "    - s4      tch, total cholesterol / HDL\n",
      "    - s5      ltg, possibly log of serum triglycerides level\n",
      "    - s6      glu, blood sugar level\n",
      "\n",
      "Note: Each of these 10 feature variables have been mean centered and scaled by the standard deviation times the square root of `n_samples` (i.e. the sum of squares of each column totals 1).\n",
      "\n",
      "Source URL:\n",
      "https://www4.stat.ncsu.edu/~boos/var.select/diabetes.html\n",
      "\n",
      "For more information see:\n",
      "Bradley Efron, Trevor Hastie, Iain Johnstone and Robert Tibshirani (2004) \"Least Angle Regression,\" Annals of Statistics (with discussion), 407-499.\n",
      "(https://web.stanford.edu/~hastie/Papers/LARS/LeastAngle_2002.pdf)\n",
      "\n"
     ]
    }
   ],
   "source": [
    "from sklearn import datasets\n",
    "bunch = datasets.load_diabetes(return_X_y=False, as_frame=True, scaled=False)\n",
    "print(bunch.DESCR)"
   ]
  },
  {
   "cell_type": "code",
   "execution_count": 6,
   "id": "eff3b902-2d26-4e6f-81a8-99a243cbca69",
   "metadata": {},
   "outputs": [
    {
     "data": {
      "text/html": [
       "<div>\n",
       "<style scoped>\n",
       "    .dataframe tbody tr th:only-of-type {\n",
       "        vertical-align: middle;\n",
       "    }\n",
       "\n",
       "    .dataframe tbody tr th {\n",
       "        vertical-align: top;\n",
       "    }\n",
       "\n",
       "    .dataframe thead th {\n",
       "        text-align: right;\n",
       "    }\n",
       "</style>\n",
       "<table border=\"1\" class=\"dataframe\">\n",
       "  <thead>\n",
       "    <tr style=\"text-align: right;\">\n",
       "      <th></th>\n",
       "      <th>age</th>\n",
       "      <th>sex</th>\n",
       "      <th>bmi</th>\n",
       "      <th>bp</th>\n",
       "      <th>s1</th>\n",
       "      <th>s2</th>\n",
       "      <th>s3</th>\n",
       "      <th>s4</th>\n",
       "      <th>s5</th>\n",
       "      <th>s6</th>\n",
       "      <th>target</th>\n",
       "    </tr>\n",
       "  </thead>\n",
       "  <tbody>\n",
       "    <tr>\n",
       "      <th>0</th>\n",
       "      <td>59.0</td>\n",
       "      <td>2.0</td>\n",
       "      <td>32.1</td>\n",
       "      <td>101.0</td>\n",
       "      <td>157.0</td>\n",
       "      <td>93.2</td>\n",
       "      <td>38.0</td>\n",
       "      <td>4.0</td>\n",
       "      <td>4.8598</td>\n",
       "      <td>87.0</td>\n",
       "      <td>151.0</td>\n",
       "    </tr>\n",
       "    <tr>\n",
       "      <th>1</th>\n",
       "      <td>48.0</td>\n",
       "      <td>1.0</td>\n",
       "      <td>21.6</td>\n",
       "      <td>87.0</td>\n",
       "      <td>183.0</td>\n",
       "      <td>103.2</td>\n",
       "      <td>70.0</td>\n",
       "      <td>3.0</td>\n",
       "      <td>3.8918</td>\n",
       "      <td>69.0</td>\n",
       "      <td>75.0</td>\n",
       "    </tr>\n",
       "    <tr>\n",
       "      <th>2</th>\n",
       "      <td>72.0</td>\n",
       "      <td>2.0</td>\n",
       "      <td>30.5</td>\n",
       "      <td>93.0</td>\n",
       "      <td>156.0</td>\n",
       "      <td>93.6</td>\n",
       "      <td>41.0</td>\n",
       "      <td>4.0</td>\n",
       "      <td>4.6728</td>\n",
       "      <td>85.0</td>\n",
       "      <td>141.0</td>\n",
       "    </tr>\n",
       "    <tr>\n",
       "      <th>3</th>\n",
       "      <td>24.0</td>\n",
       "      <td>1.0</td>\n",
       "      <td>25.3</td>\n",
       "      <td>84.0</td>\n",
       "      <td>198.0</td>\n",
       "      <td>131.4</td>\n",
       "      <td>40.0</td>\n",
       "      <td>5.0</td>\n",
       "      <td>4.8903</td>\n",
       "      <td>89.0</td>\n",
       "      <td>206.0</td>\n",
       "    </tr>\n",
       "    <tr>\n",
       "      <th>4</th>\n",
       "      <td>50.0</td>\n",
       "      <td>1.0</td>\n",
       "      <td>23.0</td>\n",
       "      <td>101.0</td>\n",
       "      <td>192.0</td>\n",
       "      <td>125.4</td>\n",
       "      <td>52.0</td>\n",
       "      <td>4.0</td>\n",
       "      <td>4.2905</td>\n",
       "      <td>80.0</td>\n",
       "      <td>135.0</td>\n",
       "    </tr>\n",
       "  </tbody>\n",
       "</table>\n",
       "</div>"
      ],
      "text/plain": [
       "    age  sex   bmi     bp     s1     s2    s3   s4      s5    s6  target\n",
       "0  59.0  2.0  32.1  101.0  157.0   93.2  38.0  4.0  4.8598  87.0   151.0\n",
       "1  48.0  1.0  21.6   87.0  183.0  103.2  70.0  3.0  3.8918  69.0    75.0\n",
       "2  72.0  2.0  30.5   93.0  156.0   93.6  41.0  4.0  4.6728  85.0   141.0\n",
       "3  24.0  1.0  25.3   84.0  198.0  131.4  40.0  5.0  4.8903  89.0   206.0\n",
       "4  50.0  1.0  23.0  101.0  192.0  125.4  52.0  4.0  4.2905  80.0   135.0"
      ]
     },
     "execution_count": 6,
     "metadata": {},
     "output_type": "execute_result"
    }
   ],
   "source": [
    "X_y = bunch.frame\n",
    "X_y.head(5)"
   ]
  },
  {
   "cell_type": "code",
   "execution_count": 7,
   "id": "40c7120c-9d70-4411-b135-02c1b1290ac5",
   "metadata": {},
   "outputs": [
    {
     "data": {
      "text/html": [
       "<div>\n",
       "<style scoped>\n",
       "    .dataframe tbody tr th:only-of-type {\n",
       "        vertical-align: middle;\n",
       "    }\n",
       "\n",
       "    .dataframe tbody tr th {\n",
       "        vertical-align: top;\n",
       "    }\n",
       "\n",
       "    .dataframe thead th {\n",
       "        text-align: right;\n",
       "    }\n",
       "</style>\n",
       "<table border=\"1\" class=\"dataframe\">\n",
       "  <thead>\n",
       "    <tr style=\"text-align: right;\">\n",
       "      <th></th>\n",
       "      <th>age</th>\n",
       "      <th>sex</th>\n",
       "      <th>bmi</th>\n",
       "      <th>bp</th>\n",
       "      <th>s1</th>\n",
       "      <th>s2</th>\n",
       "      <th>s3</th>\n",
       "      <th>s4</th>\n",
       "      <th>s5</th>\n",
       "      <th>s6</th>\n",
       "      <th>target</th>\n",
       "    </tr>\n",
       "  </thead>\n",
       "  <tbody>\n",
       "    <tr>\n",
       "      <th>count</th>\n",
       "      <td>442.000000</td>\n",
       "      <td>442.000000</td>\n",
       "      <td>442.000000</td>\n",
       "      <td>442.000000</td>\n",
       "      <td>442.000000</td>\n",
       "      <td>442.000000</td>\n",
       "      <td>442.000000</td>\n",
       "      <td>442.000000</td>\n",
       "      <td>442.000000</td>\n",
       "      <td>442.000000</td>\n",
       "      <td>442.000000</td>\n",
       "    </tr>\n",
       "    <tr>\n",
       "      <th>mean</th>\n",
       "      <td>48.518100</td>\n",
       "      <td>1.468326</td>\n",
       "      <td>26.375792</td>\n",
       "      <td>94.647014</td>\n",
       "      <td>189.140271</td>\n",
       "      <td>115.439140</td>\n",
       "      <td>49.788462</td>\n",
       "      <td>4.070249</td>\n",
       "      <td>4.641411</td>\n",
       "      <td>91.260181</td>\n",
       "      <td>152.133484</td>\n",
       "    </tr>\n",
       "    <tr>\n",
       "      <th>std</th>\n",
       "      <td>13.109028</td>\n",
       "      <td>0.499561</td>\n",
       "      <td>4.418122</td>\n",
       "      <td>13.831283</td>\n",
       "      <td>34.608052</td>\n",
       "      <td>30.413081</td>\n",
       "      <td>12.934202</td>\n",
       "      <td>1.290450</td>\n",
       "      <td>0.522391</td>\n",
       "      <td>11.496335</td>\n",
       "      <td>77.093005</td>\n",
       "    </tr>\n",
       "    <tr>\n",
       "      <th>min</th>\n",
       "      <td>19.000000</td>\n",
       "      <td>1.000000</td>\n",
       "      <td>18.000000</td>\n",
       "      <td>62.000000</td>\n",
       "      <td>97.000000</td>\n",
       "      <td>41.600000</td>\n",
       "      <td>22.000000</td>\n",
       "      <td>2.000000</td>\n",
       "      <td>3.258100</td>\n",
       "      <td>58.000000</td>\n",
       "      <td>25.000000</td>\n",
       "    </tr>\n",
       "    <tr>\n",
       "      <th>25%</th>\n",
       "      <td>38.250000</td>\n",
       "      <td>1.000000</td>\n",
       "      <td>23.200000</td>\n",
       "      <td>84.000000</td>\n",
       "      <td>164.250000</td>\n",
       "      <td>96.050000</td>\n",
       "      <td>40.250000</td>\n",
       "      <td>3.000000</td>\n",
       "      <td>4.276700</td>\n",
       "      <td>83.250000</td>\n",
       "      <td>87.000000</td>\n",
       "    </tr>\n",
       "    <tr>\n",
       "      <th>50%</th>\n",
       "      <td>50.000000</td>\n",
       "      <td>1.000000</td>\n",
       "      <td>25.700000</td>\n",
       "      <td>93.000000</td>\n",
       "      <td>186.000000</td>\n",
       "      <td>113.000000</td>\n",
       "      <td>48.000000</td>\n",
       "      <td>4.000000</td>\n",
       "      <td>4.620050</td>\n",
       "      <td>91.000000</td>\n",
       "      <td>140.500000</td>\n",
       "    </tr>\n",
       "    <tr>\n",
       "      <th>75%</th>\n",
       "      <td>59.000000</td>\n",
       "      <td>2.000000</td>\n",
       "      <td>29.275000</td>\n",
       "      <td>105.000000</td>\n",
       "      <td>209.750000</td>\n",
       "      <td>134.500000</td>\n",
       "      <td>57.750000</td>\n",
       "      <td>5.000000</td>\n",
       "      <td>4.997200</td>\n",
       "      <td>98.000000</td>\n",
       "      <td>211.500000</td>\n",
       "    </tr>\n",
       "    <tr>\n",
       "      <th>max</th>\n",
       "      <td>79.000000</td>\n",
       "      <td>2.000000</td>\n",
       "      <td>42.200000</td>\n",
       "      <td>133.000000</td>\n",
       "      <td>301.000000</td>\n",
       "      <td>242.400000</td>\n",
       "      <td>99.000000</td>\n",
       "      <td>9.090000</td>\n",
       "      <td>6.107000</td>\n",
       "      <td>124.000000</td>\n",
       "      <td>346.000000</td>\n",
       "    </tr>\n",
       "  </tbody>\n",
       "</table>\n",
       "</div>"
      ],
      "text/plain": [
       "              age         sex         bmi          bp          s1          s2  \\\n",
       "count  442.000000  442.000000  442.000000  442.000000  442.000000  442.000000   \n",
       "mean    48.518100    1.468326   26.375792   94.647014  189.140271  115.439140   \n",
       "std     13.109028    0.499561    4.418122   13.831283   34.608052   30.413081   \n",
       "min     19.000000    1.000000   18.000000   62.000000   97.000000   41.600000   \n",
       "25%     38.250000    1.000000   23.200000   84.000000  164.250000   96.050000   \n",
       "50%     50.000000    1.000000   25.700000   93.000000  186.000000  113.000000   \n",
       "75%     59.000000    2.000000   29.275000  105.000000  209.750000  134.500000   \n",
       "max     79.000000    2.000000   42.200000  133.000000  301.000000  242.400000   \n",
       "\n",
       "               s3          s4          s5          s6      target  \n",
       "count  442.000000  442.000000  442.000000  442.000000  442.000000  \n",
       "mean    49.788462    4.070249    4.641411   91.260181  152.133484  \n",
       "std     12.934202    1.290450    0.522391   11.496335   77.093005  \n",
       "min     22.000000    2.000000    3.258100   58.000000   25.000000  \n",
       "25%     40.250000    3.000000    4.276700   83.250000   87.000000  \n",
       "50%     48.000000    4.000000    4.620050   91.000000  140.500000  \n",
       "75%     57.750000    5.000000    4.997200   98.000000  211.500000  \n",
       "max     99.000000    9.090000    6.107000  124.000000  346.000000  "
      ]
     },
     "execution_count": 7,
     "metadata": {},
     "output_type": "execute_result"
    }
   ],
   "source": [
    "# provide some stats on numeric data\n",
    "X_y.describe()"
   ]
  },
  {
   "cell_type": "markdown",
   "id": "d64f3040-037b-4595-89b5-869637649eb0",
   "metadata": {},
   "source": [
    "### Deal with missing values"
   ]
  },
  {
   "cell_type": "code",
   "execution_count": 8,
   "id": "05fe3d80-892b-494d-a0ce-b65e5dba61d6",
   "metadata": {},
   "outputs": [
    {
     "data": {
      "text/plain": [
       "Series([], dtype: int64)"
      ]
     },
     "execution_count": 8,
     "metadata": {},
     "output_type": "execute_result"
    }
   ],
   "source": [
    "# Identify columns with missing values\n",
    "X_y.isna().sum().loc[lambda x : x > 0].sort_index()"
   ]
  },
  {
   "cell_type": "code",
   "execution_count": 9,
   "id": "ba0a8e6b-ecfe-497e-a491-3b6d43b83334",
   "metadata": {},
   "outputs": [],
   "source": [
    "# There are no missing values"
   ]
  },
  {
   "cell_type": "markdown",
   "id": "822db465-a369-43d8-b16c-6f9f88fd73fa",
   "metadata": {},
   "source": [
    "### Analyse the label"
   ]
  },
  {
   "cell_type": "code",
   "execution_count": 10,
   "id": "dc99f4a9-3861-4f17-b8a0-4a544543f4a0",
   "metadata": {},
   "outputs": [
    {
     "data": {
      "image/png": "[encoded data removed]",
      "text/plain": [
       "<Figure size 400x350 with 1 Axes>"
      ]
     },
     "metadata": {},
     "output_type": "display_data"
    }
   ],
   "source": [
    "# Observe label distribution\n",
    "diabetes_ymean = X_y['target'].mean()\n",
    "ax = X_y['target'].plot.hist(bins=10, alpha=0.5, title=f'Diabetes progress (mean={round(diabetes_ymean, 3)})', figsize=(4,3.5))\n",
    "plt.axvline(diabetes_ymean, color='k', linestyle='-.', linewidth=0.5);"
   ]
  },
  {
   "cell_type": "markdown",
   "id": "6f6c644d-bdc1-4bb4-b282-be0e019b6fe0",
   "metadata": {},
   "source": [
    "### Standardise both predictors and a target"
   ]
  },
  {
   "cell_type": "code",
   "execution_count": 11,
   "id": "a50fd14c-7f55-4fa7-81d5-c7030c347cae",
   "metadata": {},
   "outputs": [
    {
     "data": {
      "image/png": "[encoded data removed]",
      "text/plain": [
       "<Figure size 800x600 with 11 Axes>"
      ]
     },
     "metadata": {},
     "output_type": "display_data"
    }
   ],
   "source": [
    "# Standardise all variables\n",
    "from sklearn.preprocessing import StandardScaler, MinMaxScaler\n",
    "diabetes_scaler = MinMaxScaler(feature_range=(0, 1)) \n",
    "scaled = diabetes_scaler.fit_transform(X_y) \n",
    "X_y_std = pd.DataFrame(scaled, columns=X_y.columns)\n",
    "multi_plot_hist(X_y_std, n_cols = 4, figsize=(8,6));"
   ]
  },
  {
   "cell_type": "markdown",
   "id": "c0d890b0-11e3-41dd-acb8-d33ad9c9f9f2",
   "metadata": {},
   "source": [
    "### Prepare X and y parts"
   ]
  },
  {
   "cell_type": "code",
   "execution_count": 12,
   "id": "75db8d4b-da76-40ef-8ee1-03d0bacde4af",
   "metadata": {},
   "outputs": [],
   "source": [
    "y_std = X_y_std['target'].to_frame()\n",
    "X_std = X_y_std.drop('target', axis=1)"
   ]
  },
  {
   "cell_type": "markdown",
   "id": "502d3bd8-c359-42de-8a3e-491fc5fb358b",
   "metadata": {},
   "source": [
    "### Reduce dimensionality using PCA"
   ]
  },
  {
   "cell_type": "code",
   "execution_count": 13,
   "id": "86dbea30-fc7d-453b-a20b-9ca01bb49282",
   "metadata": {},
   "outputs": [],
   "source": [
    "### Reduce the number of variables using PCA\n",
    "from sklearn.decomposition import PCA\n",
    "\n",
    "n_components = 8\n",
    "seed = 2024\n",
    "\n",
    "diabetes_pca = PCA(n_components=n_components)\n",
    "X_pca = diabetes_pca.fit_transform(X_std)\n",
    "X_pca = pd.DataFrame(X_pca, columns=[f'PC{n:02d}' for n in range(X_pca.shape[1])])\n",
    "pca_var = diabetes_pca.explained_variance_ratio_"
   ]
  },
  {
   "cell_type": "code",
   "execution_count": 14,
   "id": "2b513ff7-e585-486d-834a-d3d62d0d6d05",
   "metadata": {},
   "outputs": [
    {
     "data": {
      "text/html": [
       "<div>\n",
       "<style scoped>\n",
       "    .dataframe tbody tr th:only-of-type {\n",
       "        vertical-align: middle;\n",
       "    }\n",
       "\n",
       "    .dataframe tbody tr th {\n",
       "        vertical-align: top;\n",
       "    }\n",
       "\n",
       "    .dataframe thead th {\n",
       "        text-align: right;\n",
       "    }\n",
       "</style>\n",
       "<table border=\"1\" class=\"dataframe\">\n",
       "  <thead>\n",
       "    <tr style=\"text-align: right;\">\n",
       "      <th></th>\n",
       "      <th>PC00</th>\n",
       "      <th>PC01</th>\n",
       "      <th>PC02</th>\n",
       "      <th>PC03</th>\n",
       "      <th>PC04</th>\n",
       "      <th>PC05</th>\n",
       "      <th>PC06</th>\n",
       "      <th>PC07</th>\n",
       "    </tr>\n",
       "  </thead>\n",
       "  <tbody>\n",
       "    <tr>\n",
       "      <th>0</th>\n",
       "      <td>0.554</td>\n",
       "      <td>-0.073</td>\n",
       "      <td>0.110</td>\n",
       "      <td>0.258</td>\n",
       "      <td>-0.111</td>\n",
       "      <td>-0.149</td>\n",
       "      <td>-0.070</td>\n",
       "      <td>0.128</td>\n",
       "    </tr>\n",
       "    <tr>\n",
       "      <th>1</th>\n",
       "      <td>-0.609</td>\n",
       "      <td>-0.280</td>\n",
       "      <td>0.133</td>\n",
       "      <td>-0.195</td>\n",
       "      <td>0.002</td>\n",
       "      <td>-0.184</td>\n",
       "      <td>0.057</td>\n",
       "      <td>-0.002</td>\n",
       "    </tr>\n",
       "    <tr>\n",
       "      <th>2</th>\n",
       "      <td>0.542</td>\n",
       "      <td>-0.108</td>\n",
       "      <td>0.261</td>\n",
       "      <td>0.140</td>\n",
       "      <td>-0.285</td>\n",
       "      <td>-0.155</td>\n",
       "      <td>-0.108</td>\n",
       "      <td>0.125</td>\n",
       "    </tr>\n",
       "    <tr>\n",
       "      <th>3</th>\n",
       "      <td>-0.452</td>\n",
       "      <td>0.107</td>\n",
       "      <td>-0.483</td>\n",
       "      <td>-0.014</td>\n",
       "      <td>0.027</td>\n",
       "      <td>0.051</td>\n",
       "      <td>0.086</td>\n",
       "      <td>-0.017</td>\n",
       "    </tr>\n",
       "    <tr>\n",
       "      <th>4</th>\n",
       "      <td>-0.469</td>\n",
       "      <td>0.047</td>\n",
       "      <td>0.060</td>\n",
       "      <td>-0.076</td>\n",
       "      <td>-0.009</td>\n",
       "      <td>-0.151</td>\n",
       "      <td>0.160</td>\n",
       "      <td>-0.126</td>\n",
       "    </tr>\n",
       "  </tbody>\n",
       "</table>\n",
       "</div>"
      ],
      "text/plain": [
       "    PC00   PC01   PC02   PC03   PC04   PC05   PC06   PC07\n",
       "0  0.554 -0.073  0.110  0.258 -0.111 -0.149 -0.070  0.128\n",
       "1 -0.609 -0.280  0.133 -0.195  0.002 -0.184  0.057 -0.002\n",
       "2  0.542 -0.108  0.261  0.140 -0.285 -0.155 -0.108  0.125\n",
       "3 -0.452  0.107 -0.483 -0.014  0.027  0.051  0.086 -0.017\n",
       "4 -0.469  0.047  0.060 -0.076 -0.009 -0.151  0.160 -0.126"
      ]
     },
     "execution_count": 14,
     "metadata": {},
     "output_type": "execute_result"
    }
   ],
   "source": [
    "### Sample of saved X predictors\n",
    "nnp.round(X_pca[0:5], 3)"
   ]
  },
  {
   "cell_type": "code",
   "execution_count": 15,
   "id": "1624d6f9-661c-4fd4-b7ae-d0aeb2a3415e",
   "metadata": {},
   "outputs": [
    {
     "data": {
      "text/html": [
       "<div>\n",
       "<style scoped>\n",
       "    .dataframe tbody tr th:only-of-type {\n",
       "        vertical-align: middle;\n",
       "    }\n",
       "\n",
       "    .dataframe tbody tr th {\n",
       "        vertical-align: top;\n",
       "    }\n",
       "\n",
       "    .dataframe thead th {\n",
       "        text-align: right;\n",
       "    }\n",
       "</style>\n",
       "<table border=\"1\" class=\"dataframe\">\n",
       "  <thead>\n",
       "    <tr style=\"text-align: right;\">\n",
       "      <th></th>\n",
       "      <th>target</th>\n",
       "    </tr>\n",
       "  </thead>\n",
       "  <tbody>\n",
       "    <tr>\n",
       "      <th>0</th>\n",
       "      <td>0.392523</td>\n",
       "    </tr>\n",
       "    <tr>\n",
       "      <th>1</th>\n",
       "      <td>0.155763</td>\n",
       "    </tr>\n",
       "    <tr>\n",
       "      <th>2</th>\n",
       "      <td>0.361371</td>\n",
       "    </tr>\n",
       "    <tr>\n",
       "      <th>3</th>\n",
       "      <td>0.563863</td>\n",
       "    </tr>\n",
       "    <tr>\n",
       "      <th>4</th>\n",
       "      <td>0.342679</td>\n",
       "    </tr>\n",
       "  </tbody>\n",
       "</table>\n",
       "</div>"
      ],
      "text/plain": [
       "     target\n",
       "0  0.392523\n",
       "1  0.155763\n",
       "2  0.361371\n",
       "3  0.563863\n",
       "4  0.342679"
      ]
     },
     "execution_count": 15,
     "metadata": {},
     "output_type": "execute_result"
    }
   ],
   "source": [
    "### Sample of saved y label\n",
    "y_std[0:5]"
   ]
  },
  {
   "cell_type": "code",
   "execution_count": 16,
   "id": "a006e6da-7a12-455c-934a-45143b823e3d",
   "metadata": {},
   "outputs": [
    {
     "data": {
      "image/png": "[encoded data removed]",
      "text/plain": [
       "<Figure size 600x400 with 1 Axes>"
      ]
     },
     "metadata": {},
     "output_type": "display_data"
    }
   ],
   "source": [
    "### Scree plot for the selected PCs\n",
    "plt.figure(figsize=(6,4))\n",
    "plt.plot(\n",
    "    range(1,len(pca_var)+1), pca_var,\n",
    "    c='blue', ls='-.', lw=0.5, marker='.')\n",
    "\n",
    "plt.legend('', frameon=False)\n",
    "plt.xlabel('Number of components')\n",
    "plt.ylabel('Component variance')\n",
    "plt.title(f'Scree plot (components={len(pca_var)}, explained var={int(sum(pca_var*100))}%)');"
   ]
  },
  {
   "cell_type": "code",
   "execution_count": 17,
   "id": "1b735437-9942-4c36-b8cc-78b1d1de2947",
   "metadata": {},
   "outputs": [
    {
     "data": {
      "image/png": "[encoded data removed]",
      "text/plain": [
       "<Figure size 600x400 with 1 Axes>"
      ]
     },
     "metadata": {},
     "output_type": "display_data"
    }
   ],
   "source": [
    "### Cumulative variance plot for the selected PCs\n",
    "plt.figure(figsize=(6,4))\n",
    "plt.plot(\n",
    "    range(1,len(pca_var)+1), nnp.cumsum(pca_var),\n",
    "    c='red', ls='-.', lw=0.5, marker='.')\n",
    "\n",
    "plt.legend('', frameon=False)\n",
    "plt.xlabel('Number of components')\n",
    "plt.ylabel('Cumulative variance')\n",
    "plt.title(f'Cumulative variance plot (PCs={len(pca_var)}, explained var={int(sum(pca_var*100))}%)');"
   ]
  },
  {
   "cell_type": "code",
   "execution_count": 18,
   "id": "37119c44-bb59-4e11-9391-9a4dc5ac7d44",
   "metadata": {},
   "outputs": [
    {
     "data": {
      "image/png": "[encoded data removed]",
      "text/plain": [
       "<Figure size 500x500 with 1 Axes>"
      ]
     },
     "metadata": {},
     "output_type": "display_data"
    }
   ],
   "source": [
    "### Plot the two PCs\n",
    "sel_pc = [0, 1] # [2, 3]\n",
    "plt.figure(figsize=(5,5))\n",
    "plt.title('PCA of Automobiles')\n",
    "plt.xlabel(f'PC {sel_pc[0]}')\n",
    "plt.ylabel(f'PC {sel_pc[1]}')\n",
    "plt.scatter(X_pca.iloc[:, sel_pc[0]], X_pca.iloc[:, sel_pc[1]], c=y_std.iloc[:, 0], cmap='bwr', marker='.');"
   ]
  },
  {
   "cell_type": "markdown",
   "id": "bbbf966b-8205-4340-b91d-1d625fc91aaa",
   "metadata": {},
   "source": [
    "### Save the preared data into a resource folder"
   ]
  },
  {
   "cell_type": "code",
   "execution_count": 19,
   "id": "1b06c232-acb6-40a2-bf3d-537c36ee6bb0",
   "metadata": {},
   "outputs": [
    {
     "name": "stdout",
     "output_type": "stream",
     "text": [
      "\n",
      "Saved the prepared data set:   \"diabetes\" in store \"rsrc\"\n",
      "To read the data set back use: \"df = pd.read_pickle(file_path)\"\n"
     ]
    }
   ],
   "source": [
    "x_file_path = os.path.join(RSRC_STORE, RSRC_NAME+'_x.pkl')\n",
    "y_file_path = os.path.join(RSRC_STORE, RSRC_NAME+'_y.pkl')\n",
    "X_pca.to_pickle(x_file_path)\n",
    "y_std.to_pickle(y_file_path)\n",
    "print(f'\\nSaved the prepared data set:   \"{RSRC_NAME}\" in store \"{RSRC_STORE}\"')\n",
    "print(f'To read the data set back use: \"df = pd.read_pickle(file_path)\"')"
   ]
  },
  {
   "cell_type": "markdown",
   "id": "1e75f75c-0dc8-4985-91c2-d07c89f120c6",
   "metadata": {},
   "source": [
    "***\n",
    "\n",
    "<div style=\"font-size:24px; color:red\">Other data prep tasks that could have been done:</div>\n",
    "<em>Especially if we had a larger data sets</em>\n",
    "\n",
    "- *Early partitioning of data $^{1}$*\n",
    "- *Consideration of categorical variables (was not needed)*\n",
    "- *Dealing with missing values (was not needed)*\n",
    "- *Dealing with variables of zero or very low IQR variance*\n",
    "- *Analysis and transformation of variables skewness $^{2}$*\n",
    "- *Analysis of target variable skewness $^{3}$*\n",
    "- *Elimination of outliers before PCA*\n",
    "- *Possible use of a robust PCA (tolerant of outliers)*\n",
    "- *Analysis of PCA projections*\n",
    "- *Elbow analysis of the scree plot*\n",
    "- *All data transformation resources should have been archived for later use*\n",
    "- *See: <a href=\"https://github.com/ironfrown/r-examples/tree/master/clustering\" target=\"_blank\">an example of extensive data preparation in R.</a>*\n",
    "\n",
    "<div style=\"font-size:14px;\">Notes:\n",
    "\n",
    "<ol>\n",
    "<li><em> Data partitioning should have been done at the very beginning. Subsequently, all transformation models (or their constants) need applied to training data and saved (here: auto_selvars, auto_xmean, auto_ymean, auto_scaler, auto_pca). Later the transformations can be applied to test data, and any new data acquired in the future. This was not done in this demo for these reasons: (1) the data set was very small, and (2) it would significantly extend the length of this demo, (3) additional data preparations are unique to the classical and quantum classification.</em></li>\n",
    "    \n",
    "<li><em> Skewness may or may not affect learning of neural networks - analysis of residual skewness is necessary in regression analysis, however, it may not be applicable to NNs or QNNs.</em></li>\n",
    "\n",
    "<li><em> Note that we have implicitly performed such an analysis when reducing the label to a binary variable.</em></li>\n",
    "<li><em>Spliting of data into training and testing partition has been deferred to the notebook detailing a specific model creation and further data preparation as required.</em></li>\n",
    "\n",
    "</ul>\n",
    "</div>\n",
    "\n",
    "***\n",
    "\n",
    "### Data preparation completed"
   ]
  },
  {
   "cell_type": "markdown",
   "id": "eb77b30a-f0ba-4221-96f4-fb0a6d03187f",
   "metadata": {},
   "source": [
    "## Modifications (do not remove)\n",
    "Under the [Creative Commons CC-BY](https://creativecommons.org/licenses/by/4.0/) license, if you perform any changes to this notebook, please list them here, adding a note with your name, contact details, date and changes to the code.\n",
    "\n",
    "- [Jacob Cybulski](http://jacobcybulski.com) (2024, 1 Oct): The author of this notebook added this section to record all code changes"
   ]
  },
  {
   "cell_type": "markdown",
   "id": "f2c6c276-c691-4591-bc0b-58cc75c16445",
   "metadata": {},
   "source": [
    "## Systems in use"
   ]
  },
  {
   "cell_type": "code",
   "execution_count": 20,
   "id": "b7dd04a7-3c57-4aab-8b4d-337597353bcf",
   "metadata": {},
   "outputs": [
    {
     "name": "stdout",
     "output_type": "stream",
     "text": [
      "PennyLane                 0.38.0\n",
      "PennyLane_Lightning       0.38.0\n",
      "PennyLane_Lightning_GPU   0.38.0\n",
      "PennyLane-Rigetti         0.36.0.post0\n",
      "torch                     2.3.1+cu121\n",
      "torch_geometric           2.5.3\n",
      "torchaudio                2.3.1+cu121\n",
      "torcheval                 0.0.7\n",
      "torchsummary              1.5.1\n",
      "torchvision               0.18.1+cu121\n"
     ]
    }
   ],
   "source": [
    "!pip list | grep -e PennyLane -e torch"
   ]
  }
 ],
 "metadata": {
  "kernelspec": {
   "display_name": "Python 3 (ipykernel)",
   "language": "python",
   "name": "python3"
  },
  "language_info": {
   "codemirror_mode": {
    "name": "ipython",
    "version": 3
   },
   "file_extension": ".py",
   "mimetype": "text/x-python",
   "name": "python",
   "nbconvert_exporter": "python",
   "pygments_lexer": "ipython3",
   "version": "3.11.11"
  },
  "widgets": {
   "application/vnd.jupyter.widget-state+json": {
    "state": {},
    "version_major": 2,
    "version_minor": 0
   }
  }
 },
 "nbformat": 4,
 "nbformat_minor": 5
}
