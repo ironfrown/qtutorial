{
 "cells": [
  {
   "cell_type": "markdown",
   "id": "2bfc6bdc-f3a6-4fa5-937b-e40a1fcbcae9",
   "metadata": {},
   "source": [
    "# A tiny model to explain the QML principles using PennyLane\n",
    "\n",
    "_This notebook explores the creation and use of a very simple model in **PennyLane and PyTorch**_.\n",
    "\n",
    "**By:** Jacob Cybulski ([website](https://jacobcybulski.com/))<br>\n",
    "**Date:** 1 October 2024<br>\n",
    "**Updates:** 1 October 2024<br>\n",
    "**Aims:** To develop a tiny quantum model in PennyLane to explain QML principles<br/>\n",
    "**License:** \n",
    "This project is licensed under the [Creative Commons CC-BY](https://creativecommons.org/licenses/by/4.0/)<br>\n",
    "**Changes:** All changes to this code must be listed at the bottom of this notebook"
   ]
  },
  {
   "cell_type": "markdown",
   "id": "5715a135-8768-4fac-9373-072ffd8039a1",
   "metadata": {},
   "source": [
    "## Libraries"
   ]
  },
  {
   "cell_type": "code",
   "execution_count": 1,
   "id": "7c92610b-6d3a-45cb-9c29-487523799255",
   "metadata": {},
   "outputs": [
    {
     "data": {
      "text/plain": [
       "['/home/jacob/miniconda3/lib/python311.zip',\n",
       " '/home/jacob/miniconda3/lib/python3.11',\n",
       " '/home/jacob/miniconda3/lib/python3.11/lib-dynload',\n",
       " '',\n",
       " '/home/jacob/venv/pl/lib/python3.11/site-packages',\n",
       " '.']"
      ]
     },
     "execution_count": 1,
     "metadata": {},
     "output_type": "execute_result"
    }
   ],
   "source": [
    "import sys\n",
    "sys.path.append('.')\n",
    "sys.path"
   ]
  },
  {
   "cell_type": "code",
   "execution_count": 2,
   "id": "e4a6dcc2-2992-43ea-9ce7-925124df72bb",
   "metadata": {},
   "outputs": [],
   "source": [
    "### General libraries\n",
    "\n",
    "import numpy as nnp\n",
    "import matplotlib.pyplot as plt\n",
    "from matplotlib import set_loglevel\n",
    "set_loglevel(\"warning\")\n",
    "\n",
    "import warnings\n",
    "warnings.filterwarnings(\"ignore\")\n",
    "\n",
    "%matplotlib inline"
   ]
  },
  {
   "cell_type": "code",
   "execution_count": 3,
   "id": "d7369b15-1a33-4e1c-ba8b-11dcae8d5650",
   "metadata": {},
   "outputs": [],
   "source": [
    "### Import utilities\n",
    "from utilities import *"
   ]
  },
  {
   "cell_type": "code",
   "execution_count": 4,
   "id": "5d3aaea1-2013-43a6-bc80-af7c8fd7fdb0",
   "metadata": {},
   "outputs": [],
   "source": [
    "### PennyLane and Torch\n",
    "\n",
    "import pennylane as qml\n",
    "from pennylane import numpy as qnp\n",
    "from pennylane import NesterovMomentumOptimizer\n",
    "from torch import nn\n",
    "from torch.autograd import Variable\n",
    "import torch"
   ]
  },
  {
   "cell_type": "markdown",
   "id": "f0fc7083-0fd0-4188-9974-e7c6cdceb48b",
   "metadata": {},
   "source": [
    "## Explore a PennyLane tiny quantum model\n",
    "\n",
    "We will first identify what quantum devices and gradient support we have, then we will show the principles of working with PennyLane, then prepare data for model training and testing, create a quantum model, and finally train it and test it."
   ]
  },
  {
   "cell_type": "markdown",
   "id": "b6273b96-e15a-449c-9174-fb3d788a03e7",
   "metadata": {},
   "source": [
    "### Define device to compute on"
   ]
  },
  {
   "cell_type": "code",
   "execution_count": 5,
   "id": "7ae209f5-9368-4e64-8ed6-8c19cd20c739",
   "metadata": {},
   "outputs": [
    {
     "name": "stdout",
     "output_type": "stream",
     "text": [
      "\n",
      "The optimum devices: lightning.qubit and cpu\n",
      "Devices to be used:  lightning.qubit and cpu\n",
      "\n"
     ]
    }
   ],
   "source": [
    "### Find what devices are available\n",
    "\n",
    "# Quantum simulator\n",
    "sim = 'lightning.qubit' # default.qubit lightning.qubit lightning.gpu\n",
    "\n",
    "# Enable CUDA device if available\n",
    "torch_device = torch.device(\"cuda:0\" if torch.cuda.is_available() else \"cpu\")\n",
    "print(f'\\nThe optimum devices: {sim} and {torch_device}')\n",
    "\n",
    "# Force CPU to avoid moving computation and data back and from the GPU\n",
    "torch_device = \"cpu\"\n",
    "\n",
    "print(f'Devices to be used:  {sim} and {torch_device}\\n')"
   ]
  },
  {
   "cell_type": "markdown",
   "id": "9c3cb4f0-b73b-4b16-a06e-283899c407c2",
   "metadata": {},
   "source": [
    "### Show QML principles with PennyLane"
   ]
  },
  {
   "cell_type": "markdown",
   "id": "ecc30f4c-8c9a-4e63-8520-751277665c10",
   "metadata": {},
   "source": [
    "#### Set up our data"
   ]
  },
  {
   "cell_type": "code",
   "execution_count": 6,
   "id": "72f0c88d-bafb-433c-a335-11a1decb2408",
   "metadata": {},
   "outputs": [
    {
     "data": {
      "text/plain": [
       "tensor([2.19911486, 0.78539816], requires_grad=False)"
      ]
     },
     "execution_count": 6,
     "metadata": {},
     "output_type": "execute_result"
    }
   ],
   "source": [
    "### Test data\n",
    "inputs = qnp.array([qnp.pi*0.7, qnp.pi/4], requires_grad=False) # Plain values\n",
    "weights = qnp.array([1.7, 0.5, 0.5], requires_grad=True)        # Parameters with gradients\n",
    "\n",
    "### This is our data\n",
    "inputs"
   ]
  },
  {
   "cell_type": "code",
   "execution_count": 7,
   "id": "52c6d311-0c55-40c6-9d0b-fba9fc794248",
   "metadata": {},
   "outputs": [
    {
     "data": {
      "text/plain": [
       "tensor([1.7, 0.5, 0.5], requires_grad=True)"
      ]
     },
     "execution_count": 7,
     "metadata": {},
     "output_type": "execute_result"
    }
   ],
   "source": [
    "weights"
   ]
  },
  {
   "cell_type": "markdown",
   "id": "c89c340b-c6e2-4c5e-b756-2be605a508fe",
   "metadata": {},
   "source": [
    "#### First circuit"
   ]
  },
  {
   "cell_type": "code",
   "execution_count": 8,
   "id": "d207b660-0fba-4250-b38b-dc7df3134cb4",
   "metadata": {},
   "outputs": [],
   "source": [
    "### Simple circuit creation and execution\n",
    "dev = qml.device(sim, wires=2, shots=1000) # default.qubit\n",
    "\n",
    "@qml.qnode(dev)\n",
    "def circuit(inputs, weights):\n",
    "    \n",
    "    # Feature map\n",
    "    qml.RY(inputs[0], wires=0)\n",
    "    qml.RY(inputs[1], wires=1)\n",
    "    qml.Barrier()\n",
    "\n",
    "    # Ansatz\n",
    "    qml.RX(weights[0], wires=0)\n",
    "    qml.RY(weights[1], wires=1)\n",
    "    qml.CNOT(wires=[0, 1])\n",
    "    qml.RY(weights[2], wires=1)\n",
    "    qml.Barrier()\n",
    "\n",
    "    # Measurement\n",
    "    return qml.probs(wires=range(2))"
   ]
  },
  {
   "cell_type": "code",
   "execution_count": 9,
   "id": "85b71520-365e-4aaf-98e1-b7f848d127ea",
   "metadata": {},
   "outputs": [
    {
     "data": {
      "image/png": "[encoded data removed]",
      "text/plain": [
       "<Figure size 490x210 with 1 Axes>"
      ]
     },
     "metadata": {},
     "output_type": "display_data"
    }
   ],
   "source": [
    "### Plot the circuit\n",
    "draw_circuit(circuit, scale=0.7, title='Tiny model (prob measurement)', style='pennylane')(inputs, weights)"
   ]
  },
  {
   "cell_type": "code",
   "execution_count": 10,
   "id": "fe6d2f6d-c41e-4459-94fc-6cd92956a6e1",
   "metadata": {},
   "outputs": [
    {
     "data": {
      "text/plain": [
       "array([0.185, 0.331, 0.065, 0.419])"
      ]
     },
     "execution_count": 10,
     "metadata": {},
     "output_type": "execute_result"
    }
   ],
   "source": [
    "### Run the circuit\n",
    "results = circuit(inputs, weights)\n",
    "results"
   ]
  },
  {
   "cell_type": "code",
   "execution_count": 11,
   "id": "9f3b9f26-1385-454b-bab7-b3ece40cab56",
   "metadata": {},
   "outputs": [
    {
     "data": {
      "image/png": "[encoded data removed]",
      "text/plain": [
       "<Figure size 432x288 with 1 Axes>"
      ]
     },
     "metadata": {},
     "output_type": "display_data"
    }
   ],
   "source": [
    "### Plot the results\n",
    "plot_hist(results, figsize=(6, 4), title='Measurement Outcomes')"
   ]
  },
  {
   "cell_type": "code",
   "execution_count": 12,
   "id": "95bd6f26-9882-43cc-acc7-1efa404ac561",
   "metadata": {},
   "outputs": [
    {
     "data": {
      "text/plain": [
       "array([[ 0.1265, -0.254 , -0.264 ],\n",
       "       [ 0.1685,  0.2565,  0.2615],\n",
       "       [-0.037 ,  0.1625, -0.1675],\n",
       "       [-0.258 , -0.165 ,  0.17  ]])"
      ]
     },
     "execution_count": 12,
     "metadata": {},
     "output_type": "execute_result"
    }
   ],
   "source": [
    "### Show gradients at each of the model parameters\n",
    "qml.gradients.param_shift(circuit)(inputs, weights)"
   ]
  },
  {
   "cell_type": "markdown",
   "id": "6b11147c-ce84-45ca-836f-dcd2ca16b22c",
   "metadata": {},
   "source": [
    "#### The same circuit but measured differently\n",
    "Expvals are *eigenvalues* of an operator, in the range [-1, 1]<br/>\n",
    "Expval is just P(0)-P(1), as eigenvalues of $\\vert 0 \\rangle$ and $\\vert 1 \\rangle$ are 1 and -1, respectively."
   ]
  },
  {
   "cell_type": "code",
   "execution_count": 13,
   "id": "ecf2c09a-b560-4565-971f-4a9a308c4e23",
   "metadata": {},
   "outputs": [],
   "source": [
    "### Simple circuit creation and execution\n",
    "dev = qml.device(sim, wires=2) # default.qubit\n",
    "\n",
    "@qml.qnode(dev)\n",
    "def circuit(inputs, weights):\n",
    "    \n",
    "    # Feature map\n",
    "    qml.RY(inputs[0], wires=0)\n",
    "    qml.RY(inputs[1], wires=1)\n",
    "    qml.Barrier()\n",
    "\n",
    "    # Ansatz\n",
    "    qml.RX(weights[0], wires=0)\n",
    "    qml.RY(weights[1], wires=1)\n",
    "    qml.CNOT(wires=[0, 1])\n",
    "    qml.RY(weights[2], wires=1)\n",
    "    qml.Barrier()\n",
    "\n",
    "    # Measurement\n",
    "    return [qml.expval(qml.PauliZ(m)) for m in range(2)]"
   ]
  },
  {
   "cell_type": "code",
   "execution_count": 14,
   "id": "d17a3403-8740-4b72-8ae0-924cf312c3f6",
   "metadata": {},
   "outputs": [
    {
     "data": {
      "image/png": "[encoded data removed]",
      "text/plain": [
       "<Figure size 490x210 with 1 Axes>"
      ]
     },
     "metadata": {},
     "output_type": "display_data"
    }
   ],
   "source": [
    "### Plot the circuit\n",
    "draw_circuit(circuit, scale=0.7, title='Tiny model (expval measurement)', style='pennylane')(inputs, weights)"
   ]
  },
  {
   "cell_type": "code",
   "execution_count": 15,
   "id": "2dc56d14-0ed5-443a-943e-44e6b8bb15e7",
   "metadata": {},
   "outputs": [
    {
     "data": {
      "text/plain": [
       "[array(0.07573289), array(-0.44132096)]"
      ]
     },
     "execution_count": 15,
     "metadata": {},
     "output_type": "execute_result"
    }
   ],
   "source": [
    "### Run the circuit\n",
    "results = circuit(inputs, weights)\n",
    "results"
   ]
  },
  {
   "cell_type": "code",
   "execution_count": 16,
   "id": "5b4050db-6536-4633-9d6e-bcf0357107a8",
   "metadata": {},
   "outputs": [
    {
     "data": {
      "image/png": "[encoded data removed]",
      "text/plain": [
       "<Figure size 432x288 with 1 Axes>"
      ]
     },
     "metadata": {},
     "output_type": "display_data"
    }
   ],
   "source": [
    "### Plot the results\n",
    "plot_hist(results, figsize=(6, 4), labels=['0', '1'], ylim=(-0.5, 0.2), \n",
    "          xlabel='qubits', ylabel='Expval (eigenvalue)', title='Measurement Outcomes')"
   ]
  },
  {
   "cell_type": "code",
   "execution_count": 17,
   "id": "fabbe5f2-954a-4075-98d4-177c371f6d6f",
   "metadata": {},
   "outputs": [
    {
     "data": {
      "text/plain": [
       "[array([ 5.82885951e-01, -4.16333634e-17,  1.38777878e-17]),\n",
       " array([ 0.14401607, -0.1987507 , -0.85230624])]"
      ]
     },
     "execution_count": 17,
     "metadata": {},
     "output_type": "execute_result"
    }
   ],
   "source": [
    "### Show gradients at each of the model parameters\n",
    "qml.gradients.param_shift(circuit)(inputs, weights)"
   ]
  },
  {
   "cell_type": "markdown",
   "id": "2068997f-64fe-4cb0-9f58-cda125473a08",
   "metadata": {},
   "source": [
    "## What's next?\n",
    "*At this point you can to the more advanced QML models to learn how to optimise their parameters.*"
   ]
  },
  {
   "cell_type": "markdown",
   "id": "e8ea776d-ed69-45e7-b98d-94eddb993248",
   "metadata": {},
   "source": [
    "## Modifications (do not remove)\n",
    "Under the [Creative Commons CC-BY](https://creativecommons.org/licenses/by/4.0/) license, if you perform any changes to this notebook, please list them here, adding a note with your name, contact details, date and changes to the code.\n",
    "\n",
    "- [Jacob Cybulski](http://jacobcybulski.com) (2024, 1 Oct): The author of this notebook added this section to record all code changes"
   ]
  },
  {
   "cell_type": "markdown",
   "id": "f2c6c276-c691-4591-bc0b-58cc75c16445",
   "metadata": {},
   "source": [
    "## Systems in use"
   ]
  },
  {
   "cell_type": "code",
   "execution_count": 18,
   "id": "b7dd04a7-3c57-4aab-8b4d-337597353bcf",
   "metadata": {},
   "outputs": [
    {
     "name": "stdout",
     "output_type": "stream",
     "text": [
      "PennyLane                 0.40.0\n",
      "PennyLane_Lightning       0.40.0\n",
      "torch                     2.6.0+cpu\n",
      "torchaudio                2.6.0+cpu\n",
      "torchsummary              1.5.1\n",
      "torchvision               0.21.0+cpu\n",
      "\n",
      "\u001b[1m[\u001b[0m\u001b[34;49mnotice\u001b[0m\u001b[1;39;49m]\u001b[0m\u001b[39;49m A new release of pip is available: \u001b[0m\u001b[31;49m23.1.2\u001b[0m\u001b[39;49m -> \u001b[0m\u001b[32;49m25.0.1\u001b[0m\n",
      "\u001b[1m[\u001b[0m\u001b[34;49mnotice\u001b[0m\u001b[1;39;49m]\u001b[0m\u001b[39;49m To update, run: \u001b[0m\u001b[32;49mpip install --upgrade pip\u001b[0m\n"
     ]
    }
   ],
   "source": [
    "!pip list | grep -e PennyLane -e torch"
   ]
  }
 ],
 "metadata": {
  "kernelspec": {
   "display_name": "Python 3 (ipykernel)",
   "language": "python",
   "name": "python3"
  },
  "language_info": {
   "codemirror_mode": {
    "name": "ipython",
    "version": 3
   },
   "file_extension": ".py",
   "mimetype": "text/x-python",
   "name": "python",
   "nbconvert_exporter": "python",
   "pygments_lexer": "ipython3",
   "version": "3.11.4"
  },
  "widgets": {
   "application/vnd.jupyter.widget-state+json": {
    "state": {},
    "version_major": 2,
    "version_minor": 0
   }
  }
 },
 "nbformat": 4,
 "nbformat_minor": 5
}
