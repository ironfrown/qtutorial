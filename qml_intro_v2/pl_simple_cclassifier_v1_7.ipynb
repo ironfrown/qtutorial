{
 "cells": [
  {
   "cell_type": "markdown",
   "id": "2bfc6bdc-f3a6-4fa5-937b-e40a1fcbcae9",
   "metadata": {},
   "source": [
    "# A Simple Classical Classifier\n",
    "\n",
    "_This notebook explores the creation and use of a classical model in **PyTorch** to compare against **PennyLane**_.\n",
    "\n",
    "**By:** Jacob Cybulski ([website](https://jacobcybulski.com/))<br>\n",
    "**Date:** 1 October 2024<br>\n",
    "**Updates:** 1 October 2024<br>\n",
    "**Aims:** To develop a simple quantum model in PennyLane and compare it with a PyTorch classical version.<br/>\n",
    "**License:** \n",
    "This project is licensed under the [Creative Commons CC-BY](https://creativecommons.org/licenses/by/4.0/)<br>\n",
    "**Changes:** All changes to this code must be listed at the bottom of this notebook"
   ]
  },
  {
   "cell_type": "markdown",
   "id": "5715a135-8768-4fac-9373-072ffd8039a1",
   "metadata": {},
   "source": [
    "## Libraries"
   ]
  },
  {
   "cell_type": "code",
   "execution_count": 1,
   "id": "7c92610b-6d3a-45cb-9c29-487523799255",
   "metadata": {},
   "outputs": [
    {
     "data": {
      "text/plain": [
       "['/home/jacob/miniconda3/lib/python311.zip',\n",
       " '/home/jacob/miniconda3/lib/python3.11',\n",
       " '/home/jacob/miniconda3/lib/python3.11/lib-dynload',\n",
       " '',\n",
       " '/home/jacob/venv/pl/lib/python3.11/site-packages',\n",
       " '.']"
      ]
     },
     "execution_count": 1,
     "metadata": {},
     "output_type": "execute_result"
    }
   ],
   "source": [
    "import sys\n",
    "sys.path.append('.')\n",
    "sys.path"
   ]
  },
  {
   "cell_type": "code",
   "execution_count": 2,
   "id": "e4a6dcc2-2992-43ea-9ce7-925124df72bb",
   "metadata": {},
   "outputs": [],
   "source": [
    "### General libraries\n",
    "\n",
    "import os\n",
    "import pylab\n",
    "import math\n",
    "import time\n",
    "import copy\n",
    "import numpy as nnp\n",
    "import pandas as pd\n",
    "from IPython.display import clear_output\n",
    "\n",
    "import matplotlib.pyplot as plt\n",
    "from matplotlib import set_loglevel\n",
    "set_loglevel(\"warning\")\n",
    "\n",
    "import warnings\n",
    "warnings.filterwarnings(\"ignore\")\n",
    "\n",
    "%matplotlib inline"
   ]
  },
  {
   "cell_type": "code",
   "execution_count": 3,
   "id": "d7369b15-1a33-4e1c-ba8b-11dcae8d5650",
   "metadata": {},
   "outputs": [],
   "source": [
    "### Import utilities\n",
    "from utilities import *"
   ]
  },
  {
   "cell_type": "markdown",
   "id": "84a8c4c0-1c83-4497-b87e-248b3d987f04",
   "metadata": {},
   "source": [
    "## Load previously prepared data set"
   ]
  },
  {
   "cell_type": "markdown",
   "id": "a4289a7c-5452-4f3b-aa53-80f4393790d1",
   "metadata": {},
   "source": [
    "Data sets to chose from (require: pip install ucimlrepo):\n",
    "- <a href=\"https://archive.ics.uci.edu/dataset/10/automobile\" target=\"_blank\">Automobiles</a>:\n",
    "  This is a database of automobile specs. The task is to either predict the car price or determine its insurance risk (symboling).\n",
    "- <a href=\"https://archive.ics.uci.edu/dataset/151/connectionist+bench+sonar+mines+vs+rocks\" target=\"_blank\">Sonar</a>:\n",
    "  The task is to discriminate between sonar signals bounced off a mine (metal cylinder) or a rock (roughly cylindrical).\n",
    "  \n",
    "_**Data prepared according to the following objectives:**_\n",
    "\n",
    "- *Fetch and understand data*\n",
    "- *Select numeric variables only*\n",
    "- *Deal with missing values*\n",
    "- *Prepare the label (change it to binary)*\n",
    "- *Standardise predictors*\n",
    "- *Reduce dimensionality using PCA*\n"
   ]
  },
  {
   "cell_type": "markdown",
   "id": "8ab01a61-7ddf-43c0-8bae-602838634908",
   "metadata": {},
   "source": [
    "### Files location"
   ]
  },
  {
   "cell_type": "code",
   "execution_count": 4,
   "id": "9eec16a7-fe83-442f-81c0-368e4378df19",
   "metadata": {},
   "outputs": [],
   "source": [
    "RSRC_STORE = 'rsrc'\n",
    "RSRC_NAME = 'simple_auto'\n",
    "PLOTS_PATH = 'plots'"
   ]
  },
  {
   "cell_type": "markdown",
   "id": "e0b9e70b-5fcb-4930-8f82-f3d485271ee0",
   "metadata": {},
   "source": [
    "### Data set in its original form"
   ]
  },
  {
   "cell_type": "code",
   "execution_count": 5,
   "id": "05ab86be-f486-46ca-b35b-3673906f2cff",
   "metadata": {},
   "outputs": [
    {
     "name": "stdout",
     "output_type": "stream",
     "text": [
      "This data set consists of three types of entities: (a) the specification of an auto in terms of various characteristics, (b) its assigned insurance risk rating, (c) its normalized losses in use as compared to other cars.  The second rating corresponds to the degree to which the auto is more risky than its price indicates. Cars are initially assigned a risk factor symbol associated with its price.   Then, if it is more risky (or less), this symbol is adjusted by moving it up (or down) the scale.  Actuarians call this process \"symboling\".  A value of +3 indicates that the auto is risky, -3 that it is probably pretty safe.\n",
      "\n",
      "The third factor is the relative average loss payment per insured vehicle year.  This value is normalized for all autos within a particular size classification (two-door small, station wagons, sports/speciality, etc...), and represents the average loss per car per year.\n",
      "\n",
      "Note: Several of the attributes in the database could be used as a \"class\" attribute. \n",
      "\n"
     ]
    }
   ],
   "source": [
    "from ucimlrepo import fetch_ucirepo\n",
    "\n",
    "auto = fetch_ucirepo(id=10)\n",
    "\n",
    "# data (as pandas dataframes) \n",
    "X_vars = auto.data.features \n",
    "y_class = auto.data.targets \n",
    "  \n",
    "# metadata \n",
    "print(auto.metadata['additional_info']['summary'],'\\n') \n",
    "  \n",
    "# variable information \n",
    "# print(auto.variables) "
   ]
  },
  {
   "cell_type": "code",
   "execution_count": 6,
   "id": "eff3b902-2d26-4e6f-81a8-99a243cbca69",
   "metadata": {},
   "outputs": [
    {
     "data": {
      "text/html": [
       "<div>\n",
       "<style scoped>\n",
       "    .dataframe tbody tr th:only-of-type {\n",
       "        vertical-align: middle;\n",
       "    }\n",
       "\n",
       "    .dataframe tbody tr th {\n",
       "        vertical-align: top;\n",
       "    }\n",
       "\n",
       "    .dataframe thead th {\n",
       "        text-align: right;\n",
       "    }\n",
       "</style>\n",
       "<table border=\"1\" class=\"dataframe\">\n",
       "  <thead>\n",
       "    <tr style=\"text-align: right;\">\n",
       "      <th></th>\n",
       "      <th>price</th>\n",
       "      <th>highway-mpg</th>\n",
       "      <th>city-mpg</th>\n",
       "      <th>peak-rpm</th>\n",
       "      <th>horsepower</th>\n",
       "      <th>compression-ratio</th>\n",
       "      <th>stroke</th>\n",
       "      <th>bore</th>\n",
       "      <th>fuel-system</th>\n",
       "      <th>engine-size</th>\n",
       "      <th>...</th>\n",
       "      <th>length</th>\n",
       "      <th>wheel-base</th>\n",
       "      <th>engine-location</th>\n",
       "      <th>drive-wheels</th>\n",
       "      <th>body-style</th>\n",
       "      <th>num-of-doors</th>\n",
       "      <th>aspiration</th>\n",
       "      <th>fuel-type</th>\n",
       "      <th>make</th>\n",
       "      <th>normalized-losses</th>\n",
       "    </tr>\n",
       "  </thead>\n",
       "  <tbody>\n",
       "    <tr>\n",
       "      <th>0</th>\n",
       "      <td>13495.0</td>\n",
       "      <td>27</td>\n",
       "      <td>21</td>\n",
       "      <td>5000.0</td>\n",
       "      <td>111.0</td>\n",
       "      <td>9.0</td>\n",
       "      <td>2.68</td>\n",
       "      <td>3.47</td>\n",
       "      <td>mpfi</td>\n",
       "      <td>130</td>\n",
       "      <td>...</td>\n",
       "      <td>168.8</td>\n",
       "      <td>88.6</td>\n",
       "      <td>front</td>\n",
       "      <td>rwd</td>\n",
       "      <td>convertible</td>\n",
       "      <td>2.0</td>\n",
       "      <td>std</td>\n",
       "      <td>gas</td>\n",
       "      <td>alfa-romero</td>\n",
       "      <td>NaN</td>\n",
       "    </tr>\n",
       "    <tr>\n",
       "      <th>1</th>\n",
       "      <td>16500.0</td>\n",
       "      <td>27</td>\n",
       "      <td>21</td>\n",
       "      <td>5000.0</td>\n",
       "      <td>111.0</td>\n",
       "      <td>9.0</td>\n",
       "      <td>2.68</td>\n",
       "      <td>3.47</td>\n",
       "      <td>mpfi</td>\n",
       "      <td>130</td>\n",
       "      <td>...</td>\n",
       "      <td>168.8</td>\n",
       "      <td>88.6</td>\n",
       "      <td>front</td>\n",
       "      <td>rwd</td>\n",
       "      <td>convertible</td>\n",
       "      <td>2.0</td>\n",
       "      <td>std</td>\n",
       "      <td>gas</td>\n",
       "      <td>alfa-romero</td>\n",
       "      <td>NaN</td>\n",
       "    </tr>\n",
       "    <tr>\n",
       "      <th>2</th>\n",
       "      <td>16500.0</td>\n",
       "      <td>26</td>\n",
       "      <td>19</td>\n",
       "      <td>5000.0</td>\n",
       "      <td>154.0</td>\n",
       "      <td>9.0</td>\n",
       "      <td>3.47</td>\n",
       "      <td>2.68</td>\n",
       "      <td>mpfi</td>\n",
       "      <td>152</td>\n",
       "      <td>...</td>\n",
       "      <td>171.2</td>\n",
       "      <td>94.5</td>\n",
       "      <td>front</td>\n",
       "      <td>rwd</td>\n",
       "      <td>hatchback</td>\n",
       "      <td>2.0</td>\n",
       "      <td>std</td>\n",
       "      <td>gas</td>\n",
       "      <td>alfa-romero</td>\n",
       "      <td>NaN</td>\n",
       "    </tr>\n",
       "    <tr>\n",
       "      <th>3</th>\n",
       "      <td>13950.0</td>\n",
       "      <td>30</td>\n",
       "      <td>24</td>\n",
       "      <td>5500.0</td>\n",
       "      <td>102.0</td>\n",
       "      <td>10.0</td>\n",
       "      <td>3.40</td>\n",
       "      <td>3.19</td>\n",
       "      <td>mpfi</td>\n",
       "      <td>109</td>\n",
       "      <td>...</td>\n",
       "      <td>176.6</td>\n",
       "      <td>99.8</td>\n",
       "      <td>front</td>\n",
       "      <td>fwd</td>\n",
       "      <td>sedan</td>\n",
       "      <td>4.0</td>\n",
       "      <td>std</td>\n",
       "      <td>gas</td>\n",
       "      <td>audi</td>\n",
       "      <td>164.0</td>\n",
       "    </tr>\n",
       "    <tr>\n",
       "      <th>4</th>\n",
       "      <td>17450.0</td>\n",
       "      <td>22</td>\n",
       "      <td>18</td>\n",
       "      <td>5500.0</td>\n",
       "      <td>115.0</td>\n",
       "      <td>8.0</td>\n",
       "      <td>3.40</td>\n",
       "      <td>3.19</td>\n",
       "      <td>mpfi</td>\n",
       "      <td>136</td>\n",
       "      <td>...</td>\n",
       "      <td>176.6</td>\n",
       "      <td>99.4</td>\n",
       "      <td>front</td>\n",
       "      <td>4wd</td>\n",
       "      <td>sedan</td>\n",
       "      <td>4.0</td>\n",
       "      <td>std</td>\n",
       "      <td>gas</td>\n",
       "      <td>audi</td>\n",
       "      <td>164.0</td>\n",
       "    </tr>\n",
       "  </tbody>\n",
       "</table>\n",
       "<p>5 rows × 25 columns</p>\n",
       "</div>"
      ],
      "text/plain": [
       "     price  highway-mpg  city-mpg  peak-rpm  horsepower  compression-ratio  \\\n",
       "0  13495.0           27        21    5000.0       111.0                9.0   \n",
       "1  16500.0           27        21    5000.0       111.0                9.0   \n",
       "2  16500.0           26        19    5000.0       154.0                9.0   \n",
       "3  13950.0           30        24    5500.0       102.0               10.0   \n",
       "4  17450.0           22        18    5500.0       115.0                8.0   \n",
       "\n",
       "   stroke  bore fuel-system  engine-size  ...  length wheel-base  \\\n",
       "0    2.68  3.47        mpfi          130  ...   168.8       88.6   \n",
       "1    2.68  3.47        mpfi          130  ...   168.8       88.6   \n",
       "2    3.47  2.68        mpfi          152  ...   171.2       94.5   \n",
       "3    3.40  3.19        mpfi          109  ...   176.6       99.8   \n",
       "4    3.40  3.19        mpfi          136  ...   176.6       99.4   \n",
       "\n",
       "   engine-location  drive-wheels   body-style  num-of-doors  aspiration  \\\n",
       "0            front           rwd  convertible           2.0         std   \n",
       "1            front           rwd  convertible           2.0         std   \n",
       "2            front           rwd    hatchback           2.0         std   \n",
       "3            front           fwd        sedan           4.0         std   \n",
       "4            front           4wd        sedan           4.0         std   \n",
       "\n",
       "  fuel-type         make normalized-losses  \n",
       "0       gas  alfa-romero               NaN  \n",
       "1       gas  alfa-romero               NaN  \n",
       "2       gas  alfa-romero               NaN  \n",
       "3       gas         audi             164.0  \n",
       "4       gas         audi             164.0  \n",
       "\n",
       "[5 rows x 25 columns]"
      ]
     },
     "execution_count": 6,
     "metadata": {},
     "output_type": "execute_result"
    }
   ],
   "source": [
    "X_vars.head(5)"
   ]
  },
  {
   "cell_type": "markdown",
   "id": "5780bd9c-5005-4f30-abed-42a79c8f4894",
   "metadata": {},
   "source": [
    "### Load data from the store"
   ]
  },
  {
   "cell_type": "code",
   "execution_count": 7,
   "id": "85e03a75-41d6-4aa8-b925-92680e159b84",
   "metadata": {},
   "outputs": [
    {
     "name": "stdout",
     "output_type": "stream",
     "text": [
      "\n",
      "Read previously prepared data set:   \"simple_auto\" in store \"rsrc\"\n",
      "\n"
     ]
    }
   ],
   "source": [
    "x_file_path = os.path.join(RSRC_STORE, RSRC_NAME+'_x.pkl')\n",
    "y_file_path = os.path.join(RSRC_STORE, RSRC_NAME+'_y.pkl')\n",
    "X_pca = pd.read_pickle(x_file_path)\n",
    "y = pd.read_pickle(y_file_path)\n",
    "print(f'\\nRead previously prepared data set:   \"{RSRC_NAME}\" in store \"{RSRC_STORE}\"\\n')"
   ]
  },
  {
   "cell_type": "code",
   "execution_count": 8,
   "id": "310c9583-6eeb-4336-9184-6577f397d9af",
   "metadata": {},
   "outputs": [
    {
     "data": {
      "text/html": [
       "<div>\n",
       "<style scoped>\n",
       "    .dataframe tbody tr th:only-of-type {\n",
       "        vertical-align: middle;\n",
       "    }\n",
       "\n",
       "    .dataframe tbody tr th {\n",
       "        vertical-align: top;\n",
       "    }\n",
       "\n",
       "    .dataframe thead th {\n",
       "        text-align: right;\n",
       "    }\n",
       "</style>\n",
       "<table border=\"1\" class=\"dataframe\">\n",
       "  <thead>\n",
       "    <tr style=\"text-align: right;\">\n",
       "      <th></th>\n",
       "      <th>PC00</th>\n",
       "      <th>PC01</th>\n",
       "      <th>PC02</th>\n",
       "      <th>PC03</th>\n",
       "      <th>PC04</th>\n",
       "      <th>PC05</th>\n",
       "      <th>PC06</th>\n",
       "      <th>PC07</th>\n",
       "    </tr>\n",
       "  </thead>\n",
       "  <tbody>\n",
       "    <tr>\n",
       "      <th>7</th>\n",
       "      <td>1.309</td>\n",
       "      <td>-0.300</td>\n",
       "      <td>-0.380</td>\n",
       "      <td>-0.279</td>\n",
       "      <td>0.583</td>\n",
       "      <td>0.224</td>\n",
       "      <td>-0.000</td>\n",
       "      <td>-0.080</td>\n",
       "    </tr>\n",
       "    <tr>\n",
       "      <th>8</th>\n",
       "      <td>1.404</td>\n",
       "      <td>-0.612</td>\n",
       "      <td>-0.500</td>\n",
       "      <td>-0.491</td>\n",
       "      <td>0.684</td>\n",
       "      <td>0.113</td>\n",
       "      <td>0.094</td>\n",
       "      <td>-0.275</td>\n",
       "    </tr>\n",
       "    <tr>\n",
       "      <th>9</th>\n",
       "      <td>-0.650</td>\n",
       "      <td>-1.271</td>\n",
       "      <td>-0.318</td>\n",
       "      <td>-0.086</td>\n",
       "      <td>0.307</td>\n",
       "      <td>0.316</td>\n",
       "      <td>-0.018</td>\n",
       "      <td>0.097</td>\n",
       "    </tr>\n",
       "    <tr>\n",
       "      <th>10</th>\n",
       "      <td>-0.918</td>\n",
       "      <td>-0.757</td>\n",
       "      <td>-0.158</td>\n",
       "      <td>0.132</td>\n",
       "      <td>0.592</td>\n",
       "      <td>-0.702</td>\n",
       "      <td>0.097</td>\n",
       "      <td>-0.224</td>\n",
       "    </tr>\n",
       "    <tr>\n",
       "      <th>11</th>\n",
       "      <td>0.592</td>\n",
       "      <td>0.278</td>\n",
       "      <td>-0.712</td>\n",
       "      <td>-0.322</td>\n",
       "      <td>0.267</td>\n",
       "      <td>-0.821</td>\n",
       "      <td>0.115</td>\n",
       "      <td>-0.256</td>\n",
       "    </tr>\n",
       "  </tbody>\n",
       "</table>\n",
       "</div>"
      ],
      "text/plain": [
       "     PC00   PC01   PC02   PC03   PC04   PC05   PC06   PC07\n",
       "7   1.309 -0.300 -0.380 -0.279  0.583  0.224 -0.000 -0.080\n",
       "8   1.404 -0.612 -0.500 -0.491  0.684  0.113  0.094 -0.275\n",
       "9  -0.650 -1.271 -0.318 -0.086  0.307  0.316 -0.018  0.097\n",
       "10 -0.918 -0.757 -0.158  0.132  0.592 -0.702  0.097 -0.224\n",
       "11  0.592  0.278 -0.712 -0.322  0.267 -0.821  0.115 -0.256"
      ]
     },
     "execution_count": 8,
     "metadata": {},
     "output_type": "execute_result"
    }
   ],
   "source": [
    "### Sample of saved X predictors\n",
    "nnp.round(X_pca[7:12], 3)"
   ]
  },
  {
   "cell_type": "code",
   "execution_count": 9,
   "id": "fae1c730-b487-4493-abf7-b86d0564fba0",
   "metadata": {},
   "outputs": [
    {
     "data": {
      "text/html": [
       "<div>\n",
       "<style scoped>\n",
       "    .dataframe tbody tr th:only-of-type {\n",
       "        vertical-align: middle;\n",
       "    }\n",
       "\n",
       "    .dataframe tbody tr th {\n",
       "        vertical-align: top;\n",
       "    }\n",
       "\n",
       "    .dataframe thead th {\n",
       "        text-align: right;\n",
       "    }\n",
       "</style>\n",
       "<table border=\"1\" class=\"dataframe\">\n",
       "  <thead>\n",
       "    <tr style=\"text-align: right;\">\n",
       "      <th></th>\n",
       "      <th>symboling</th>\n",
       "    </tr>\n",
       "  </thead>\n",
       "  <tbody>\n",
       "    <tr>\n",
       "      <th>7</th>\n",
       "      <td>1</td>\n",
       "    </tr>\n",
       "    <tr>\n",
       "      <th>8</th>\n",
       "      <td>1</td>\n",
       "    </tr>\n",
       "    <tr>\n",
       "      <th>9</th>\n",
       "      <td>0</td>\n",
       "    </tr>\n",
       "    <tr>\n",
       "      <th>10</th>\n",
       "      <td>1</td>\n",
       "    </tr>\n",
       "    <tr>\n",
       "      <th>11</th>\n",
       "      <td>0</td>\n",
       "    </tr>\n",
       "  </tbody>\n",
       "</table>\n",
       "</div>"
      ],
      "text/plain": [
       "    symboling\n",
       "7           1\n",
       "8           1\n",
       "9           0\n",
       "10          1\n",
       "11          0"
      ]
     },
     "execution_count": 9,
     "metadata": {},
     "output_type": "execute_result"
    }
   ],
   "source": [
    "### Sample of saved y label\n",
    "y[7:12]"
   ]
  },
  {
   "cell_type": "markdown",
   "id": "f0fc7083-0fd0-4188-9974-e7c6cdceb48b",
   "metadata": {},
   "source": [
    "## Create a simple classical model\n",
    "\n",
    "We will first identify what devices and gradient support we have, then prepare data for model training and testing, create a classical model, and finally train it and test it."
   ]
  },
  {
   "cell_type": "code",
   "execution_count": 10,
   "id": "c2fc64dc-04d3-45e5-9624-124caeb7fe7f",
   "metadata": {},
   "outputs": [],
   "source": [
    "### Torch\n",
    "\n",
    "from torch import nn\n",
    "from torch.autograd import Variable\n",
    "import torch"
   ]
  },
  {
   "cell_type": "markdown",
   "id": "b879499d-3f99-4c64-bca2-839624c0e7ee",
   "metadata": {},
   "source": [
    "### Utilities"
   ]
  },
  {
   "cell_type": "code",
   "execution_count": 11,
   "id": "cccb1bff-d81c-4b59-bfe5-4d7a9d17a66f",
   "metadata": {},
   "outputs": [],
   "source": [
    "### Performance measurements\n",
    "\n",
    "def square_loss(labels, predictions):\n",
    "    sq_diffs = torch.tensor([(l - p)**2 for l, p in zip(labels, predictions)])\n",
    "    return sq_diffs.mean().item()\n",
    "\n",
    "def accuracy(labels, predictions, prec=1e-5):\n",
    "    acc = sum(abs(l - p) < prec for l, p in zip(labels, predictions))\n",
    "    acc = acc / len(labels)\n",
    "    return acc.item()\n",
    "\n",
    "### Counts the number of pytorch model parameters\n",
    "def count_params(model):\n",
    "    return sum(p.numel() for p in model.parameters() if p.requires_grad)"
   ]
  },
  {
   "cell_type": "markdown",
   "id": "b6273b96-e15a-449c-9174-fb3d788a03e7",
   "metadata": {},
   "source": [
    "### Define device to compute on"
   ]
  },
  {
   "cell_type": "code",
   "execution_count": 12,
   "id": "7ae209f5-9368-4e64-8ed6-8c19cd20c739",
   "metadata": {},
   "outputs": [
    {
     "name": "stdout",
     "output_type": "stream",
     "text": [
      "\n",
      "The optimum device: cpu\n",
      "Device to be used:  cpu\n",
      "\n"
     ]
    }
   ],
   "source": [
    "### Find what devices are available\n",
    "\n",
    "# Enable CUDA device if available\n",
    "torch_device = torch.device(\"cuda:0\" if torch.cuda.is_available() else \"cpu\")\n",
    "print(f'\\nThe optimum device: {torch_device}')\n",
    "\n",
    "# Force CPU\n",
    "torch_device = \"cpu\"\n",
    "print(f'Device to be used:  {torch_device}\\n')"
   ]
  },
  {
   "cell_type": "markdown",
   "id": "e3c9934d-961b-469d-a82e-5df3f2c6404b",
   "metadata": {},
   "source": [
    "### Configuration constants"
   ]
  },
  {
   "cell_type": "code",
   "execution_count": 13,
   "id": "ed96d78d-19f2-4dab-b326-89eef3468788",
   "metadata": {},
   "outputs": [],
   "source": [
    "### Data params\n",
    "n_data = 4\n",
    "x_angle_margin = 0\n",
    "x_angle_min = 0+x_angle_margin\n",
    "x_angle_max = 1-x_angle_margin\n",
    "\n",
    "### Training params\n",
    "epochs = 10000\n",
    "prompt_fract = 0.05\n",
    "acc_prec = 0.5\n",
    "log_interv = 1\n",
    "seed = 2024"
   ]
  },
  {
   "cell_type": "markdown",
   "id": "0f3d1ed0-2fe6-43c8-bfbd-a922e460976e",
   "metadata": {},
   "source": [
    "### Prepare data for the classifier"
   ]
  },
  {
   "cell_type": "code",
   "execution_count": 14,
   "id": "2b38b813-cae7-43df-98e6-ac156b034532",
   "metadata": {},
   "outputs": [
    {
     "name": "stdout",
     "output_type": "stream",
     "text": [
      "Min X=-3.081, Max X=2.648, Min y=0, Max y=1\n"
     ]
    }
   ],
   "source": [
    "### Check ranges\n",
    "print(f'Min X={X_pca.to_numpy().min().round(3)}, Max X={X_pca.to_numpy().max().round(3)}, '+\\\n",
    "      f'Min y={y.to_numpy().min().round(3)}, Max y={y.to_numpy().max().round(3)}')"
   ]
  },
  {
   "cell_type": "code",
   "execution_count": 15,
   "id": "df5929a3-2edf-4931-9653-4a58b662f516",
   "metadata": {},
   "outputs": [
    {
     "name": "stdout",
     "output_type": "stream",
     "text": [
      "Min X=0.0, Max X=1.0\n"
     ]
    }
   ],
   "source": [
    "### Standardise X values to the range 0..pi\n",
    "from sklearn.preprocessing import StandardScaler, MinMaxScaler\n",
    "angle_scaler = MinMaxScaler(feature_range=(x_angle_min, x_angle_max)) \n",
    "scaled = angle_scaler.fit_transform(X_pca) \n",
    "X = pd.DataFrame(scaled, columns=X_pca.columns)\n",
    "\n",
    "# Recheck the X ranges\n",
    "print(f'Min X={X.to_numpy().min().round(3)}, Max X={X.to_numpy().max().round(3)}')"
   ]
  },
  {
   "cell_type": "code",
   "execution_count": 16,
   "id": "07250e43-a05a-4b1d-84e1-c80cb4f14efb",
   "metadata": {},
   "outputs": [
    {
     "name": "stdout",
     "output_type": "stream",
     "text": [
      "Shapes: X_train=(137, 4), X_test=(68, 4), y_train=(137, 1), y_test=(68, 1)\n"
     ]
    }
   ],
   "source": [
    "### Create data partitions\n",
    "from sklearn.model_selection import train_test_split\n",
    "X_train, X_test, y_train, y_test = train_test_split(X.iloc[:,0:n_data], y.iloc[:,0:n_data], \n",
    "                                                    test_size=0.33, random_state=seed)\n",
    "print(f'Shapes: X_train={X_train.shape}, X_test={X_test.shape}, y_train={y_train.shape}, y_test={y_test.shape}')"
   ]
  },
  {
   "cell_type": "code",
   "execution_count": 17,
   "id": "ab85dc0d-fb4a-4d6f-b0d2-5b6cad51785d",
   "metadata": {},
   "outputs": [],
   "source": [
    "### Change the data format to tensors\n",
    "X_train_tens = torch.tensor(np.array(X_train), dtype=torch.double)\n",
    "y_train_tens = torch.tensor(np.array(y_train), dtype=torch.double)\n",
    "X_test_tens  = torch.tensor(np.array(X_test), dtype=torch.double)\n",
    "y_test_tens  = torch.tensor(np.array(y_test), dtype=torch.double)"
   ]
  },
  {
   "cell_type": "code",
   "execution_count": 18,
   "id": "1d26a9d1-44f5-4a14-b522-edd85a463c20",
   "metadata": {},
   "outputs": [
    {
     "name": "stdout",
     "output_type": "stream",
     "text": [
      "tensor([[0.8883, 0.5390, 0.8176, 0.3153],\n",
      "        [0.7041, 0.6541, 0.1770, 0.5171],\n",
      "        [0.6178, 0.7362, 0.1689, 0.2953],\n",
      "        [0.1620, 0.7329, 0.3704, 0.5715],\n",
      "        [0.3020, 0.4683, 0.2455, 0.3817]], dtype=torch.float64)\n"
     ]
    }
   ],
   "source": [
    "### Sample training predictors\n",
    "print(X_train_tens[0:5])"
   ]
  },
  {
   "cell_type": "code",
   "execution_count": 19,
   "id": "ad50dd10-7598-4317-b562-d27b64040686",
   "metadata": {},
   "outputs": [
    {
     "data": {
      "text/plain": [
       "tensor([[0.],\n",
       "        [0.],\n",
       "        [0.],\n",
       "        [1.],\n",
       "        [1.]], dtype=torch.float64)"
      ]
     },
     "execution_count": 19,
     "metadata": {},
     "output_type": "execute_result"
    }
   ],
   "source": [
    "### Sample training labels\n",
    "y_train_tens[0:5]"
   ]
  },
  {
   "cell_type": "markdown",
   "id": "86ffde92-ee78-444d-a834-5e4801a2203e",
   "metadata": {},
   "source": [
    "### Model training functions"
   ]
  },
  {
   "cell_type": "code",
   "execution_count": 20,
   "id": "21f25666-2d1e-4d6c-8fd6-dc6c545bb7ee",
   "metadata": {},
   "outputs": [],
   "source": [
    "### Classic classifier\n",
    "class Classic_Auto(nn.Module):\n",
    "\n",
    "    def __init__(self, in_shape, out_shape):\n",
    "        super(Classic_Auto, self).__init__()\n",
    "        \n",
    "        self.model = nn.Sequential(\n",
    "            nn.Linear(in_shape, 32),\n",
    "            nn.ReLU(True),\n",
    "            nn.Dropout(0.2),\n",
    "            nn.Linear(32, 64),\n",
    "            nn.ReLU(True),\n",
    "            nn.Dropout(0.2),\n",
    "            nn.Linear(64, 32),\n",
    "            nn.BatchNorm1d(32),\n",
    "            nn.Linear(32, 8),\n",
    "            nn.ReLU(True),\n",
    "            nn.Dropout(0.2),\n",
    "            nn.Linear(8, out_shape)\n",
    "        )\n",
    "        \n",
    "    def forward(self, x):\n",
    "        x = self.model(x)\n",
    "        return x"
   ]
  },
  {
   "cell_type": "code",
   "execution_count": 21,
   "id": "48533568-0f25-48dd-9b55-2395942c7ba0",
   "metadata": {},
   "outputs": [
    {
     "data": {
      "text/plain": [
       "tensor([[0.5199],\n",
       "        [0.7554],\n",
       "        [0.1996],\n",
       "        [0.2020],\n",
       "        [0.2273]], dtype=torch.float64, grad_fn=<AddmmBackward0>)"
      ]
     },
     "execution_count": 21,
     "metadata": {},
     "output_type": "execute_result"
    }
   ],
   "source": [
    "### Test if the model works as a function\n",
    "test = Classic_Auto(in_shape=X_train_tens.shape[1], out_shape=y_train_tens.shape[1]).double().to(torch_device)\n",
    "test(X_train_tens[0:5])"
   ]
  },
  {
   "cell_type": "code",
   "execution_count": 22,
   "id": "6a9a7077-0ee8-401a-b46f-41a23c19f175",
   "metadata": {},
   "outputs": [],
   "source": [
    "### Trains the classical AE model\n",
    "def train_classical(model, X, y, cost_fun, acc_fun, optimizer, epochs, log_interv=100, prompt_fract=0.1, acc_prec=0.3):\n",
    "    history = []\n",
    "    acc_hist = []\n",
    "    min_epoch = 0\n",
    "    min_cost = 1000\n",
    "    min_acc = 1000\n",
    "    opt_params = {}\n",
    "    hist_params = []\n",
    "    running_loss = 0\n",
    "    \n",
    "    model.train()\n",
    "    for epoch in range(epochs):\n",
    "        \n",
    "        optimizer.zero_grad()\n",
    "        output = model(X)\n",
    "        cost = cost_fun(output, y)\n",
    "        acc = acc_fun(output, y, prec=acc_prec)\n",
    "        cost.backward()\n",
    "        optimizer.step()\n",
    "\n",
    "        curr_loss = cost.item()\n",
    "        curr_acc = acc\n",
    "        if curr_loss < min_cost: \n",
    "            min_cost = curr_loss\n",
    "            min_epoch = epoch\n",
    "            opt_params = copy.deepcopy(model.state_dict())\n",
    "\n",
    "        if curr_acc < min_acc:\n",
    "            min_acc = curr_acc\n",
    "\n",
    "        if epoch % log_interv == 0:\n",
    "            history.append(curr_loss)\n",
    "            acc_hist.append(curr_acc)\n",
    "            hist_params.append(copy.deepcopy(model.state_dict()))\n",
    "\n",
    "        if epoch % int(prompt_fract*epochs) == 0:\n",
    "            print(f'epoch {epoch} \\t Loss: {curr_loss:.4g} \\t Acc: {curr_acc:.4g}')\n",
    "            \n",
    "        running_loss += curr_loss\n",
    "\n",
    "    return history, acc_hist, opt_params, hist_params, (min_epoch, min_cost)\n"
   ]
  },
  {
   "cell_type": "markdown",
   "id": "d5048d07-4f01-4333-83f6-a8732c534079",
   "metadata": {},
   "source": [
    "### Model creation and training run"
   ]
  },
  {
   "cell_type": "code",
   "execution_count": 23,
   "id": "4406fe76-24ba-45ff-bb37-abe3ceaefc52",
   "metadata": {},
   "outputs": [
    {
     "data": {
      "text/plain": [
       "Classic_Auto(\n",
       "  (model): Sequential(\n",
       "    (0): Linear(in_features=4, out_features=32, bias=True)\n",
       "    (1): ReLU(inplace=True)\n",
       "    (2): Dropout(p=0.2, inplace=False)\n",
       "    (3): Linear(in_features=32, out_features=64, bias=True)\n",
       "    (4): ReLU(inplace=True)\n",
       "    (5): Dropout(p=0.2, inplace=False)\n",
       "    (6): Linear(in_features=64, out_features=32, bias=True)\n",
       "    (7): BatchNorm1d(32, eps=1e-05, momentum=0.1, affine=True, track_running_stats=True)\n",
       "    (8): Linear(in_features=32, out_features=8, bias=True)\n",
       "    (9): ReLU(inplace=True)\n",
       "    (10): Dropout(p=0.2, inplace=False)\n",
       "    (11): Linear(in_features=8, out_features=1, bias=True)\n",
       "  )\n",
       ")"
      ]
     },
     "execution_count": 23,
     "metadata": {},
     "output_type": "execute_result"
    }
   ],
   "source": [
    "### Set random seed\n",
    "torch.manual_seed(seed)\n",
    "torch.cuda.manual_seed(seed)\n",
    "torch.backends.cudnn.deterministic = True\n",
    "torch.backends.cudnn.benchmark = False\n",
    "\n",
    "### Create a model\n",
    "c_auto = Classic_Auto(in_shape=X_train_tens.shape[1], out_shape=y_train_tens.shape[1]).double().to(torch_device)\n",
    "\n",
    "### Loss and optimiser\n",
    "\n",
    "cost_fun = nn.MSELoss()\n",
    "# cost_fun = nn.L1Loss()\n",
    "\n",
    "# opt = optim.SGD(model.parameters(),lr=0.01,weight_decay=1e-5)\n",
    "opt = torch.optim.Adam(c_auto.parameters())\n",
    "\n",
    "### Show \n",
    "c_auto.eval()"
   ]
  },
  {
   "cell_type": "code",
   "execution_count": 24,
   "id": "ac5689e0-c8b0-4edf-a9f8-8d06e9dac348",
   "metadata": {},
   "outputs": [
    {
     "name": "stdout",
     "output_type": "stream",
     "text": [
      "epoch 0 \t Loss: 0.8958 \t Acc: 0.3723\n",
      "epoch 500 \t Loss: 0.1597 \t Acc: 0.7737\n",
      "epoch 1000 \t Loss: 0.1305 \t Acc: 0.8175\n",
      "epoch 1500 \t Loss: 0.1292 \t Acc: 0.8394\n",
      "epoch 2000 \t Loss: 0.1251 \t Acc: 0.8467\n",
      "epoch 2500 \t Loss: 0.09349 \t Acc: 0.8978\n",
      "epoch 3000 \t Loss: 0.08864 \t Acc: 0.8905\n",
      "epoch 3500 \t Loss: 0.07186 \t Acc: 0.9124\n",
      "epoch 4000 \t Loss: 0.07687 \t Acc: 0.9124\n",
      "epoch 4500 \t Loss: 0.0758 \t Acc: 0.9197\n",
      "epoch 5000 \t Loss: 0.06107 \t Acc: 0.9197\n",
      "epoch 5500 \t Loss: 0.07781 \t Acc: 0.9124\n",
      "epoch 6000 \t Loss: 0.04943 \t Acc: 0.9635\n",
      "epoch 6500 \t Loss: 0.06141 \t Acc: 0.9124\n",
      "epoch 7000 \t Loss: 0.05408 \t Acc: 0.9489\n",
      "epoch 7500 \t Loss: 0.0578 \t Acc: 0.9489\n",
      "epoch 8000 \t Loss: 0.03547 \t Acc: 0.9781\n",
      "epoch 8500 \t Loss: 0.05072 \t Acc: 0.9635\n",
      "epoch 9000 \t Loss: 0.06929 \t Acc: 0.9124\n",
      "epoch 9500 \t Loss: 0.04033 \t Acc: 0.9562\n"
     ]
    }
   ],
   "source": [
    "### Train the model\n",
    "\n",
    "start = time.time()\n",
    "\n",
    "train_mse_hist, train_acc_hist, opt_params, hist_params, opt_point = \\\n",
    "    train_classical(c_auto, X_train_tens, y_train_tens, \n",
    "                    cost_fun, accuracy, opt, epochs, log_interv=log_interv, prompt_fract=prompt_fract, acc_prec=acc_prec)\n",
    "\n",
    "elapsed = time.time() - start\n"
   ]
  },
  {
   "cell_type": "markdown",
   "id": "f415bbc8-be2b-496c-874f-a735825031fc",
   "metadata": {},
   "source": [
    "### Calculate optimum scores"
   ]
  },
  {
   "cell_type": "code",
   "execution_count": 25,
   "id": "f436c192-1d1a-440d-931d-c83c4b128500",
   "metadata": {},
   "outputs": [],
   "source": [
    "### Accumulate test scores\n",
    "test_mse_hist = []\n",
    "test_acc_hist = []\n",
    "\n",
    "### Find training loss and accuracy\n",
    "train_min_mse = nnp.min(train_mse_hist)\n",
    "train_min_mse_iter = nnp.argmin(train_mse_hist)\n",
    "train_max_acc = nnp.max(train_acc_hist)\n",
    "train_max_acc_iter = nnp.argmax(train_acc_hist)\n",
    "\n",
    "### Initialise testing loss and accuracy\n",
    "test_min_mse = 1000\n",
    "test_min_mse_iter = -1\n",
    "test_max_acc = 0\n",
    "test_max_acc_iter = -1\n",
    "\n",
    "### Calculate testing loss and accuracy\n",
    "for iter in range(len(hist_params)):\n",
    "    c_auto.load_state_dict(hist_params[iter])\n",
    "    test_pred = c_auto(X_test_tens)\n",
    "    curr_acc = accuracy(test_pred, y_test_tens, prec=acc_prec)\n",
    "    curr_loss = square_loss(test_pred, y_test_tens)\n",
    "    test_acc_hist.append(curr_acc)\n",
    "    test_mse_hist.append(curr_loss)\n",
    "    if curr_acc > test_max_acc:\n",
    "        test_max_acc = curr_acc\n",
    "        test_max_acc_iter = iter\n",
    "    if curr_loss < test_min_mse:\n",
    "        test_min_mse = curr_loss\n",
    "        test_min_mse_iter = iter"
   ]
  },
  {
   "cell_type": "code",
   "execution_count": 26,
   "id": "9fac6eab-8030-40e7-a019-509575b3650c",
   "metadata": {},
   "outputs": [
    {
     "name": "stdout",
     "output_type": "stream",
     "text": [
      "\n",
      "Run Summary:\tdevice = cpu\n",
      "\t\tsamples = 137, features = 4, params = 4689, epochs = 10000\n",
      "\t\ttraining: cost = 0.0242 @ 8756, acc = 1.0000 @ 8993\n",
      "\t\ttesting:  cost = 0.0641 @ 4720, acc = 0.9559 @ 3273\n",
      "\t\telapsed time = 48sec (00:00:47)\n",
      "\n"
     ]
    }
   ],
   "source": [
    "# Print run statistics\n",
    "time_str = time.strftime(\"%H:%M:%S\", time.gmtime(elapsed))\n",
    "\n",
    "print(f'\\n'+\n",
    "      f'Run Summary:\\t'+\n",
    "      f'device = {torch_device}\\n\\t\\t'+\n",
    "      f'samples = {y_train_tens.shape[0]}, '+\n",
    "      f'features = {X_train_tens.shape[1]}, '+\n",
    "      f'params = {count_params(c_auto)}, '+\n",
    "      f'epochs = {epochs}\\n\\t\\t'+\n",
    "      f'training: cost = {round(train_min_mse, 5):05.4f} @ {train_min_mse_iter:04d}, '+\n",
    "      f'acc = {round(train_max_acc, 5):05.4f} @ {train_max_acc_iter:04d}\\n\\t\\t'+\n",
    "      f'testing:  cost = {round(test_min_mse, 5):05.4f} @ {test_min_mse_iter:04d}, '+\n",
    "      f'acc = {round(test_max_acc, 5):05.4f} @ {test_max_acc_iter:04d}\\n\\t\\t'+\n",
    "      f'elapsed time = {elapsed:0.0f}sec ({time_str})'+\n",
    "      f'\\n'\n",
    "     )"
   ]
  },
  {
   "cell_type": "markdown",
   "id": "fbe2638e-1cd9-4575-b462-3e9874ef6e73",
   "metadata": {},
   "source": [
    "### Plot costs and scores"
   ]
  },
  {
   "cell_type": "code",
   "execution_count": 27,
   "id": "1173a6df-03d9-4045-98ca-3484a8bafcb4",
   "metadata": {},
   "outputs": [
    {
     "data": {
      "image/png": "[encoded data removed]",
      "text/plain": [
       "<Figure size 800x400 with 1 Axes>"
      ]
     },
     "metadata": {},
     "output_type": "display_data"
    }
   ],
   "source": [
    "### Plot training cost\n",
    "meas_plot(train_mse_hist, meas='MSE cost', task='min', title_pref='Training',\n",
    "                  rcParams=(8, 4), log_interv=log_interv,\n",
    "                  backplot=False, back_color='linen', smooth_weight=0.8,\n",
    "                  save_plot=f'{os.path.join(PLOTS_PATH, f\"{RSRC_NAME}_ctrain_mse.eps\")}')"
   ]
  },
  {
   "cell_type": "code",
   "execution_count": 28,
   "id": "23142f86-1609-44a0-be6c-73cb4cbe0f7b",
   "metadata": {},
   "outputs": [
    {
     "data": {
      "image/png": "[encoded data removed]",
      "text/plain": [
       "<Figure size 800x400 with 1 Axes>"
      ]
     },
     "metadata": {},
     "output_type": "display_data"
    }
   ],
   "source": [
    "### Plot test cost\n",
    "meas_plot(test_mse_hist, meas='MSE', task='min', title_pref='Testing',\n",
    "                  rcParams=(8, 4), log_interv=log_interv,\n",
    "                  backplot=False, back_color='linen', smooth_weight=0.8,\n",
    "                  save_plot=f'{os.path.join(PLOTS_PATH, f\"{RSRC_NAME}_ctest_mse.eps\")}')"
   ]
  },
  {
   "cell_type": "code",
   "execution_count": 29,
   "id": "35cc9ae5-cfa1-4c83-972e-17f7cf4d9b9b",
   "metadata": {},
   "outputs": [
    {
     "data": {
      "image/png": "[encoded data removed]",
      "text/plain": [
       "<Figure size 800x400 with 1 Axes>"
      ]
     },
     "metadata": {},
     "output_type": "display_data"
    }
   ],
   "source": [
    "### Plot training accuracy\n",
    "meas_plot(train_acc_hist, meas='accuracy', task='max', title_pref='Training',\n",
    "                  rcParams=(8, 4), log_interv=log_interv, xlim=(0, epochs+1), ylim=(0.4, 1),\n",
    "                  backplot=True, back_color='linen', smooth_weight=0.95,\n",
    "                  save_plot=f'{os.path.join(PLOTS_PATH, f\"{RSRC_NAME}_ctrain_acc.eps\")}')"
   ]
  },
  {
   "cell_type": "code",
   "execution_count": 30,
   "id": "488b148b-6856-4854-a725-e2e6425faae9",
   "metadata": {},
   "outputs": [
    {
     "data": {
      "image/png": "[encoded data removed]",
      "text/plain": [
       "<Figure size 800x400 with 1 Axes>"
      ]
     },
     "metadata": {},
     "output_type": "display_data"
    }
   ],
   "source": [
    "### Plot testing accuracy\n",
    "meas_plot(test_acc_hist, meas='accuracy', task='max', title_pref='Testing',\n",
    "                  rcParams=(8, 4), log_interv=log_interv, xlim=(0, epochs+1), ylim=(0.35, 0.95),\n",
    "                  backplot=True, back_color='linen', smooth_weight=0.95,\n",
    "                  save_plot=f'{os.path.join(PLOTS_PATH, f\"{RSRC_NAME}_ctest_acc.eps\")}')"
   ]
  },
  {
   "cell_type": "markdown",
   "id": "2904b284-5870-45d2-8233-39342d0e48f4",
   "metadata": {},
   "source": [
    "## What's next?\n",
    "*At this point you can improve this notebook by performing the following tasks:*\n",
    "\n",
    "- Save the history of loss and accuracy into a resource folder\n",
    "- Save all model parameters kept during the model training into a resource folder\n",
    "- Play with the smoothing factor in all plots to gain insight into volatility of your scores\n",
    "- Analyse all accumulated data and report your observations, reflect on your learning\n",
    "\n",
    "*As an extension:*\n",
    "\n",
    "- Prepare an Automobile data set, a model and its scores, to predict car price (exclude symboling which is a variable dependent on price)\n",
    "- Repeat the entire process for the \"sonar\" data set (link included above)\n",
    "- Enjoy learning predictive analytics using classical and quantum ML models"
   ]
  },
  {
   "cell_type": "markdown",
   "id": "9bee8440-4bae-4313-8103-6f0c4bee28b6",
   "metadata": {},
   "source": [
    "## Modifications (do not remove)\n",
    "Under the [Creative Commons CC-BY](https://creativecommons.org/licenses/by/4.0/) license, if you perform any changes to this notebook, please list them here, adding a note with your name, contact details, date and changes to the code.\n",
    "\n",
    "- [Jacob Cybulski](http://jacobcybulski.com) (2024, 1 Oct): The author of this notebook added this section to record all code changes"
   ]
  },
  {
   "cell_type": "markdown",
   "id": "f2c6c276-c691-4591-bc0b-58cc75c16445",
   "metadata": {},
   "source": [
    "## Main systems in use"
   ]
  },
  {
   "cell_type": "code",
   "execution_count": 31,
   "id": "b7dd04a7-3c57-4aab-8b4d-337597353bcf",
   "metadata": {},
   "outputs": [
    {
     "name": "stdout",
     "output_type": "stream",
     "text": [
      "PennyLane                 0.40.0\n",
      "PennyLane_Lightning       0.40.0\n",
      "torch                     2.6.0+cpu\n",
      "torchaudio                2.6.0+cpu\n",
      "torchsummary              1.5.1\n",
      "torchvision               0.21.0+cpu\n",
      "\n",
      "\u001b[1m[\u001b[0m\u001b[34;49mnotice\u001b[0m\u001b[1;39;49m]\u001b[0m\u001b[39;49m A new release of pip is available: \u001b[0m\u001b[31;49m23.1.2\u001b[0m\u001b[39;49m -> \u001b[0m\u001b[32;49m25.0.1\u001b[0m\n",
      "\u001b[1m[\u001b[0m\u001b[34;49mnotice\u001b[0m\u001b[1;39;49m]\u001b[0m\u001b[39;49m To update, run: \u001b[0m\u001b[32;49mpip install --upgrade pip\u001b[0m\n"
     ]
    }
   ],
   "source": [
    "!pip list | grep -e PennyLane -e torch"
   ]
  }
 ],
 "metadata": {
  "kernelspec": {
   "display_name": "Python 3 (ipykernel)",
   "language": "python",
   "name": "python3"
  },
  "language_info": {
   "codemirror_mode": {
    "name": "ipython",
    "version": 3
   },
   "file_extension": ".py",
   "mimetype": "text/x-python",
   "name": "python",
   "nbconvert_exporter": "python",
   "pygments_lexer": "ipython3",
   "version": "3.11.4"
  },
  "widgets": {
   "application/vnd.jupyter.widget-state+json": {
    "state": {},
    "version_major": 2,
    "version_minor": 0
   }
  }
 },
 "nbformat": 4,
 "nbformat_minor": 5
}
